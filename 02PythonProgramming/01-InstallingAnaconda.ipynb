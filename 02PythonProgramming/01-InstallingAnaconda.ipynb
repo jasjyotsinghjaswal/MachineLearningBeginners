{
 "cells": [
  {
   "cell_type": "markdown",
   "metadata": {},
   "source": [
    "# What and Why use Anaconda?"
   ]
  },
  {
   "cell_type": "markdown",
   "metadata": {},
   "source": [
    "<div  style=\"color:blue;font-family:Candara,arial,helvetica;line-height:20px\"><strong>\n",
    "    \n",
    "## It includes:\n",
    "\n",
    "### 1.The core python language\n",
    "### 2.100+ python \"packages\" (libraries)\n",
    "### 3.Spyder (IDE/editor - like pycharm) and Jupyter\n",
    "### 4.conda, Anaconda's own package manager, used for updating Anaconda and packages    \n",
    "\n",
    "</strong></div>\n"
   ]
  },
  {
   "cell_type": "markdown",
   "metadata": {},
   "source": [
    "# System Requirements for Anaconda"
   ]
  },
  {
   "cell_type": "markdown",
   "metadata": {},
   "source": [
    "<div  style=\"color:blue;font-family:Candara,arial,helvetica;line-height:20px\"><strong>\n",
    "    \n",
    "## Hardware requirements\n",
    "### .1.CPU: 2 x 64-bit 2.8 GHz 8.00 GT/s CPUs\n",
    "### 2.RAM: 32 GB (or 16 GB of 1600 MHz DDR3 RAM)\n",
    "### 3Storage: 300 GB. (600 GB for air-gapped deployments.) Additional space recommended if the repository will be used to store packages built by the customer. With an empty repository, a base install requires 2 GB.\n",
    "### 4.Internet access to download the files from Anaconda Cloud or a USB drive containing all of the files you need with alternate instructions for air gapped installations.\n",
    "## Software & system requirements\n",
    "### 1.RHEL/CentOS 6.5 to 7.4, Ubuntu 12.04+\n",
    "### 2.Ubuntu users may need to install cURL.\n",
    "### 3.Client environment may be Windows, macOS or Linux\n",
    "\n",
    "</strong></div>    "
   ]
  },
  {
   "cell_type": "markdown",
   "metadata": {},
   "source": [
    "# Installing Anaconda"
   ]
  },
  {
   "cell_type": "markdown",
   "metadata": {},
   "source": [
    "<div  style=\"color:blue;font-family:Candara,arial,helvetica;line-height:20px\"><strong>\n",
    "    \n",
    "## Visit the site https://www.anaconda.com/distribution/ and download the Distribution for Python 3\n",
    "## Alternatively visit https://www.cse.unsw.edu.au/~en1811/resources/getting-started/install-anaconda.html for complete instruction for setting up\n",
    "\n",
    "## Also add to your User Path Variable the following paths:\n",
    "\n",
    "### D:\\Programs\\Anaconda3\n",
    "### D:\\Programs\\Anaconda3\\Scripts\n",
    "### D:\\Programs\\Anaconda3\\Library\\bin\n",
    "\n",
    "</strong></div>  "
   ]
  },
  {
   "cell_type": "markdown",
   "metadata": {},
   "source": [
    "# Install Variable Explorer for Jupyter"
   ]
  },
  {
   "cell_type": "markdown",
   "metadata": {},
   "source": [
    "<div  style=\"color:brown;font-family:Candara,arial,helvetica;line-height:20px\"><strong>\n",
    "    \n",
    "#### pip install jupyter_contrib_nbextensions\n",
    "#### jupyter contrib nbextension install --user\n",
    "#### jupyter nbextension enable varInspector/main\n",
    "\n",
    "</strong></div>  "
   ]
  },
  {
   "cell_type": "code",
   "execution_count": null,
   "metadata": {},
   "outputs": [],
   "source": []
  }
 ],
 "metadata": {
  "kernelspec": {
   "display_name": "Python 3",
   "language": "python",
   "name": "python3"
  },
  "language_info": {
   "codemirror_mode": {
    "name": "ipython",
    "version": 3
   },
   "file_extension": ".py",
   "mimetype": "text/x-python",
   "name": "python",
   "nbconvert_exporter": "python",
   "pygments_lexer": "ipython3",
   "version": "3.7.3"
  }
 },
 "nbformat": 4,
 "nbformat_minor": 2
}
