{
 "cells": [
  {
   "cell_type": "markdown",
   "metadata": {},
   "source": [
    "# Fetching Current Directory Details"
   ]
  },
  {
   "cell_type": "code",
   "execution_count": 27,
   "metadata": {},
   "outputs": [
    {
     "name": "stdout",
     "output_type": "stream",
     "text": [
      "Printing Current working dir\n",
      "C:\\Users\\Jasjyot Singh Jaswal\\Documents\\JupyterWB\\DataScienceAndVisualisation\\MachineLearningForBeginners\\02PythonProgramming\n",
      "---------------------------------------------\n",
      "Printing Current working directory list of files\n",
      "['.ipynb_checkpoints', '01-InstallingAnaconda.ipynb', '02-IntroductionToBasicTypesInPython.ipynb', '03-02-IntroductionToComplexTypesInPython.ipynb', '04-WorkingWIthFilesInPython.ipynb', 'abc.txt', 'mod.txt']\n",
      "---------------------------------------------\n"
     ]
    }
   ],
   "source": [
    "#Know your present working directory\n",
    "import os\n",
    "cwd = os.getcwd()\n",
    "print(\"Printing Current working dir\")\n",
    "print(cwd)\n",
    "print(\"---------------------------------------------\")\n",
    "#List all files in current directory\n",
    "print(\"Printing Current working directory list of files\")\n",
    "files = os.listdir(os.curdir)\n",
    "print(files)\n",
    "print(\"---------------------------------------------\")\n",
    "#Create File abc.txt with following content\n",
    "# A,B,C\n",
    "# 23,45,72\n",
    "# 81,23,98\n"
   ]
  },
  {
   "cell_type": "markdown",
   "metadata": {},
   "source": [
    "# Reading from a File"
   ]
  },
  {
   "cell_type": "code",
   "execution_count": 30,
   "metadata": {},
   "outputs": [
    {
     "name": "stdout",
     "output_type": "stream",
     "text": [
      "Printing Line 1 : A,B,C\n",
      "\n",
      "Printing Line 2 : 23,45,72\n",
      "\n",
      "Printing all lines: ['A,B,C\\n', '23,45,72\\n', '81,23,98\\n']\n"
     ]
    }
   ],
   "source": [
    "#Open a file in read mode, readline used to read 1 line at a time , readlines used to read all lines at a time\n",
    "readfl=open(\"abc.txt\",\"r\")\n",
    "line1=readfl.readline() \n",
    "line2=readfl.readline()\n",
    "print(\"Printing Line 1 : \"+line1)\n",
    "print(\"Printing Line 2 : \"+line2)\n",
    "#To reset the file pointer we need to either redefine the variable or reinitialise the variable\n",
    "readfl=open(\"abc.txt\",\"r\")\n",
    "lines=readfl.readlines()\n",
    "print(\"Printing all lines: \"+str(lines))"
   ]
  },
  {
   "cell_type": "markdown",
   "metadata": {},
   "source": [
    "# Writing to a File"
   ]
  },
  {
   "cell_type": "code",
   "execution_count": 45,
   "metadata": {},
   "outputs": [
    {
     "name": "stdout",
     "output_type": "stream",
     "text": [
      "List of Marks: ['23', '45', '72\\n']\n",
      "Sum is : 140\n"
     ]
    }
   ],
   "source": [
    "#Split Line 2 based on , into 3 different variables\n",
    "list_marks=line2.split(\",\")\n",
    "print(\"List of Marks: \"+str(list_marks))\n",
    "a1=int(list_marks[0])\n",
    "a2=int(list_marks[1])\n",
    "a3=int(list_marks[2])\n",
    "sum=a1+a2+a3\n",
    "print(\"Sum is : \"+str(sum))\n",
    "#Open a file in append mode - If file doesnt exist, it creates one else it appends new information \n",
    "writefl=open(\"mod.txt\",\"a\")\n",
    "writefl.write(str(sum))\n",
    "writefl.close()"
   ]
  },
  {
   "cell_type": "markdown",
   "metadata": {},
   "source": [
    "# Processing File using For Loop\n"
   ]
  },
  {
   "cell_type": "code",
   "execution_count": null,
   "metadata": {},
   "outputs": [],
   "source": [
    "\n",
    "writefl.seek(0)"
   ]
  }
 ],
 "metadata": {
  "kernelspec": {
   "display_name": "Python 3",
   "language": "python",
   "name": "python3"
  },
  "language_info": {
   "codemirror_mode": {
    "name": "ipython",
    "version": 3
   },
   "file_extension": ".py",
   "mimetype": "text/x-python",
   "name": "python",
   "nbconvert_exporter": "python",
   "pygments_lexer": "ipython3",
   "version": "3.7.3"
  },
  "varInspector": {
   "cols": {
    "lenName": 16,
    "lenType": 16,
    "lenVar": 40
   },
   "kernels_config": {
    "python": {
     "delete_cmd_postfix": "",
     "delete_cmd_prefix": "del ",
     "library": "var_list.py",
     "varRefreshCmd": "print(var_dic_list())"
    },
    "r": {
     "delete_cmd_postfix": ") ",
     "delete_cmd_prefix": "rm(",
     "library": "var_list.r",
     "varRefreshCmd": "cat(var_dic_list()) "
    }
   },
   "position": {
    "height": "278.8px",
    "left": "856.2px",
    "right": "20px",
    "top": "121px",
    "width": "498.8px"
   },
   "types_to_exclude": [
    "module",
    "function",
    "builtin_function_or_method",
    "instance",
    "_Feature"
   ],
   "window_display": false
  }
 },
 "nbformat": 4,
 "nbformat_minor": 2
}
