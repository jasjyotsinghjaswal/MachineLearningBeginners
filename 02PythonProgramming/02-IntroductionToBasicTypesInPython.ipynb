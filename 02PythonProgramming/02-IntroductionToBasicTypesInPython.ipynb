{
 "cells": [
  {
   "cell_type": "markdown",
   "metadata": {},
   "source": [
    "# Basic Python Block"
   ]
  },
  {
   "cell_type": "code",
   "execution_count": 4,
   "metadata": {},
   "outputs": [
    {
     "name": "stdout",
     "output_type": "stream",
     "text": [
      "Hello World\n",
      "ThisIsAStringValue\n"
     ]
    }
   ],
   "source": [
    "#FirstPythonProgram\n",
    "print(\"Hello World\")\n",
    "#Printng a Variable Value\n",
    "a=\"ThisIsAStringValue\"\n",
    "print(a)"
   ]
  },
  {
   "cell_type": "markdown",
   "metadata": {},
   "source": [
    "# Exploring Variables With Python"
   ]
  },
  {
   "cell_type": "code",
   "execution_count": 13,
   "metadata": {},
   "outputs": [
    {
     "name": "stdout",
     "output_type": "stream",
     "text": [
      "23 33.5\n",
      "sunrise\n",
      "s\n",
      "s r\n",
      "unrise\n",
      "John Doe\n"
     ]
    }
   ],
   "source": [
    "#Variables -> Variables are location in memory that are assigned a value and referenced by label/name\n",
    "an_int_var=23\n",
    "a_float_var=33.5\n",
    "print(an_int_var,a_float_var)\n",
    "name=\"sunrise\"\n",
    "print(name)\n",
    "#Strings -> Strings are nothing but continous list of characters that can be accessed using index which starts with 0\n",
    "print(name[0])\n",
    "print(name[0],name[3])\n",
    "print(name[1:])\n",
    "#Concatenating Variables\n",
    "Fname=\"John\"\n",
    "Lname=\" Doe\"\n",
    "FullName=Fname+Lname\n",
    "print(FullName)\n",
    "#Boolean Variables\n",
    "v_true=True\n",
    "v_false=False"
   ]
  },
  {
   "cell_type": "markdown",
   "metadata": {},
   "source": [
    "# Conditonal Statements in Python\n",
    "<img src=\"https://beginnersbook.com/wp-content/uploads/2017/08/if_statement_flow_diagram-1.jpg\" alt=\"drawing\" width=\"300\" height=\"300\"/>    \n"
   ]
  },
  {
   "cell_type": "code",
   "execution_count": 18,
   "metadata": {},
   "outputs": [
    {
     "name": "stdout",
     "output_type": "stream",
     "text": [
      "Tax amt is greater than 700\n",
      "Tax amt is less than 1700\n",
      "Bool1 is true\n",
      "Bool2 is false\n"
     ]
    }
   ],
   "source": [
    "tax_amt=1500\n",
    "\n",
    "#Validating a true condition\n",
    "if  tax_amt>700:\n",
    "    print(\"Tax amt is greater than 700\")\n",
    "else:\n",
    "    print(\"Tax amt is less than 700\")\n",
    "    \n",
    "#Validating a false condition\n",
    "if  tax_amt>1700:\n",
    "    print(\"Tax amt is greater than 1700\")\n",
    "else:\n",
    "    print(\"Tax amt is less than 1700\")    \n",
    "    \n",
    "#Indentation is used in python to indicate start and end of block of statements\n",
    "\n",
    "#We can also use values of Boolean variables directly to evaluate a condition\n",
    "\n",
    "bool_v1=True\n",
    "bool_v2=False\n",
    "\n",
    "if bool_v1:\n",
    "    print(\"Bool1 is true\")\n",
    "else:\n",
    "    print(\"Bool1 is false\")\n",
    "    \n",
    "if bool_v2:\n",
    "    print(\"Bool2 is true\")\n",
    "else:\n",
    "    print(\"Bool2 is false\")    \n",
    "\n"
   ]
  },
  {
   "cell_type": "markdown",
   "metadata": {},
   "source": [
    "# Loops in Python\n",
    "<img src=\"https://www.w3schools.in/wp-content/uploads/2014/07/c-while.png\" alt=\"drawing\" width=\"300\" height=\"300\"/>  "
   ]
  },
  {
   "cell_type": "markdown",
   "metadata": {},
   "source": [
    "## Understanding While Loops in Python"
   ]
  },
  {
   "cell_type": "code",
   "execution_count": 19,
   "metadata": {},
   "outputs": [
    {
     "name": "stdout",
     "output_type": "stream",
     "text": [
      "0\n",
      "2\n",
      "4\n",
      "6\n",
      "8\n",
      "10\n",
      "12\n",
      "14\n",
      "16\n",
      "18\n",
      "---------\n",
      "3\n",
      "6\n",
      "9\n",
      "12\n",
      "15\n",
      "18\n",
      "21\n",
      "24\n",
      "27\n",
      "30\n",
      "33\n"
     ]
    }
   ],
   "source": [
    "\n",
    "i=0\n",
    "while i<20:\n",
    "    print(i)\n",
    "    i=i+2\n",
    "    \n",
    "print(\"---------\")\n",
    "\n",
    "#Evaluating Loops using Boolean Variables\n",
    "j=0\n",
    "bool_loop_var=True\n",
    "while bool_loop_var:\n",
    "    j=j+3\n",
    "    print(j)\n",
    "    if j>30:\n",
    "        bool_loop_var=False"
   ]
  },
  {
   "cell_type": "markdown",
   "metadata": {},
   "source": [
    "## Understanding For Loops in Python"
   ]
  },
  {
   "cell_type": "code",
   "execution_count": 25,
   "metadata": {},
   "outputs": [
    {
     "name": "stdout",
     "output_type": "stream",
     "text": [
      "Current Character is : D\n",
      "Current Character is : a\n",
      "Current Character is : m\n",
      "Current Character is : i\n",
      "Current Character is : e\n",
      "Current Character is : n\n",
      "-----------------------------------------------------\n",
      "Current Character is : 0\n",
      "Current Character is : 4\n",
      "Current Character is : 8\n",
      "Current Character is : 12\n",
      "Current Character is : 16\n",
      "Current Character is : 20\n",
      "Current Character is : 24\n",
      "Current Character is : 28\n",
      "Current Character is : 32\n",
      "Current Character is : 36\n"
     ]
    }
   ],
   "source": [
    "#Looping through all characters of a string\n",
    "name=\"Damien\"\n",
    "for char in name:\n",
    "    print(\"Current Character is : \"+char)\n",
    "print(\"-----------------------------------------------------\")    \n",
    "#Looping through a sequence\n",
    "for num in range(0,40,4):\n",
    "    print(\"Current Character is : \"+str(num))"
   ]
  },
  {
   "cell_type": "code",
   "execution_count": null,
   "metadata": {},
   "outputs": [],
   "source": []
  }
 ],
 "metadata": {
  "kernelspec": {
   "display_name": "Python 3",
   "language": "python",
   "name": "python3"
  },
  "language_info": {
   "codemirror_mode": {
    "name": "ipython",
    "version": 3
   },
   "file_extension": ".py",
   "mimetype": "text/x-python",
   "name": "python",
   "nbconvert_exporter": "python",
   "pygments_lexer": "ipython3",
   "version": "3.7.3"
  },
  "varInspector": {
   "cols": {
    "lenName": 16,
    "lenType": 16,
    "lenVar": 40
   },
   "kernels_config": {
    "python": {
     "delete_cmd_postfix": "",
     "delete_cmd_prefix": "del ",
     "library": "var_list.py",
     "varRefreshCmd": "print(var_dic_list())"
    },
    "r": {
     "delete_cmd_postfix": ") ",
     "delete_cmd_prefix": "rm(",
     "library": "var_list.r",
     "varRefreshCmd": "cat(var_dic_list()) "
    }
   },
   "types_to_exclude": [
    "module",
    "function",
    "builtin_function_or_method",
    "instance",
    "_Feature"
   ],
   "window_display": false
  }
 },
 "nbformat": 4,
 "nbformat_minor": 2
}
