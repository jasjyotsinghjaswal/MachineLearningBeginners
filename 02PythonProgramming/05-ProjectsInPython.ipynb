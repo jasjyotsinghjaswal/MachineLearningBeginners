{
 "cells": [
  {
   "cell_type": "markdown",
   "metadata": {},
   "source": [
    "# Problem -> Calculate average marks for a student"
   ]
  },
  {
   "cell_type": "code",
   "execution_count": 32,
   "metadata": {},
   "outputs": [],
   "source": [
    "#Problem -> Calculate average marks for a student\n",
    "\n",
    "#Input:\n",
    "##################################\n",
    "#     0         1          2\n",
    "# 0 Prateek  Priyanka   Bhavesh\n",
    "# 1   363      458        982\n",
    "# 2   875      987        312\n",
    "# 3   415      589        879\n",
    "##################################\n",
    "\n",
    "\n",
    "#Output:\n",
    "##########################################\n",
    "#     0         1             2\n",
    "# 0 Prateek  Priyanka      Bhavesh\n",
    "# 1   363      458           982\n",
    "# 2   551     678.0      724.3333333333334\n",
    "##########################################"
   ]
  },
  {
   "cell_type": "markdown",
   "metadata": {},
   "source": [
    "# Creating 2 Dimensional List of student and their marks"
   ]
  },
  {
   "cell_type": "code",
   "execution_count": 5,
   "metadata": {},
   "outputs": [
    {
     "name": "stdout",
     "output_type": "stream",
     "text": [
      "Printing Student Marks\n",
      "\n",
      "[['Prateek', 'Priyanka', 'Bahvesh'], [363, 458, 982], [875, 987, 312], [415, 589, 879]]\n"
     ]
    }
   ],
   "source": [
    "#Creating 2 Dimensional List\n",
    "\n",
    "student_marks=[[\"Prateek\",\"Priyanka\",\"Bahvesh\"],[363,458,982],[875,987,312],[415,589,879]]\n",
    "print(\"Printing Student Marks\")\n",
    "print()\n",
    "print(student_marks)"
   ]
  },
  {
   "cell_type": "markdown",
   "metadata": {},
   "source": [
    "# Solution"
   ]
  },
  {
   "cell_type": "code",
   "execution_count": 31,
   "metadata": {},
   "outputs": [
    {
     "name": "stdout",
     "output_type": "stream",
     "text": [
      "Printing Marks Multi dimensional list-----------------------\n",
      "[[363, 458, 982], [875, 987, 312], [415, 589, 879]]\n",
      "Printing List Containing Sum for each student-----------------------\n",
      "[1653, 2034, 2173]\n",
      "Printing List Containing Average for each student-----------------------\n",
      "[551.0, 678.0, 724.3333333333334]\n",
      "Creating 2 Dimensional List------------------------------\n",
      "[['Prateek', 'Priyanka', 'Bahvesh'], [551.0, 678.0, 724.3333333333334]]\n"
     ]
    }
   ],
   "source": [
    "# Identify the subset only containing Students marks\n",
    "print(\"Printing Marks Multi dimensional list-----------------------\")\n",
    "marks_array=student_marks[1:4]\n",
    "print(marks_array)\n",
    "sum_marks=[0,0,0]\n",
    "# Loop through this subset\n",
    "term_num=0\n",
    "for marks_list in marks_array:\n",
    "    term_num=0\n",
    "    for marks in marks_list:\n",
    "        sum_marks[term_num]=marks+sum_marks[term_num]\n",
    "        term_num=term_num+1\n",
    "        \n",
    "print(\"Printing List Containing Sum for each student-----------------------\")\n",
    "print(sum_marks)\n",
    "\n",
    "#Create an Average 1 Dimensional List\n",
    "avg_marks=[0,0,0]\n",
    "avg_index=0\n",
    "for ind_sum in sum_marks:\n",
    "    avg_marks[avg_index]=ind_sum/3\n",
    "    avg_index=avg_index+1\n",
    "    \n",
    "print(\"Printing List Containing Average for each student-----------------------\")\n",
    "print(avg_marks)\n",
    "\n",
    "print(\"Creating 2 Dimensional List------------------------------\")\n",
    "stu_avg=[]\n",
    "stu_avg.append(student_marks[0])\n",
    "stu_avg.append(avg_marks)\n",
    "print(stu_avg)"
   ]
  },
  {
   "cell_type": "code",
   "execution_count": null,
   "metadata": {},
   "outputs": [],
   "source": []
  }
 ],
 "metadata": {
  "kernelspec": {
   "display_name": "Python 3",
   "language": "python",
   "name": "python3"
  },
  "language_info": {
   "codemirror_mode": {
    "name": "ipython",
    "version": 3
   },
   "file_extension": ".py",
   "mimetype": "text/x-python",
   "name": "python",
   "nbconvert_exporter": "python",
   "pygments_lexer": "ipython3",
   "version": "3.7.3"
  },
  "varInspector": {
   "cols": {
    "lenName": 16,
    "lenType": 16,
    "lenVar": 40
   },
   "kernels_config": {
    "python": {
     "delete_cmd_postfix": "",
     "delete_cmd_prefix": "del ",
     "library": "var_list.py",
     "varRefreshCmd": "print(var_dic_list())"
    },
    "r": {
     "delete_cmd_postfix": ") ",
     "delete_cmd_prefix": "rm(",
     "library": "var_list.r",
     "varRefreshCmd": "cat(var_dic_list()) "
    }
   },
   "types_to_exclude": [
    "module",
    "function",
    "builtin_function_or_method",
    "instance",
    "_Feature"
   ],
   "window_display": false
  }
 },
 "nbformat": 4,
 "nbformat_minor": 2
}
