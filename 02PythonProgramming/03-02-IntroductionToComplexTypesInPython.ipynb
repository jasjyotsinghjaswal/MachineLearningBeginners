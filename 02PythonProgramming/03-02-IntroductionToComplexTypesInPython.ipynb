{
 "cells": [
  {
   "cell_type": "markdown",
   "metadata": {},
   "source": [
    "# Lists"
   ]
  },
  {
   "cell_type": "code",
   "execution_count": 22,
   "metadata": {},
   "outputs": [
    {
     "name": "stdout",
     "output_type": "stream",
     "text": [
      "['Satheesh', 'Ramesh', 'Suresh', 'Mrinal']\n",
      "Satheesh\n",
      "Mrinal\n",
      "['Ramesh', 'Suresh']\n"
     ]
    }
   ],
   "source": [
    "#A list is a data structure in Python that is a mutable, or changeable, ordered sequence of elements. \n",
    "#Each element or value that is inside of a list is called an item and is indexed which starts at 0\n",
    "#Strings are lists behind the scenes too\n",
    "\n",
    "list_1=[\"Satheesh\",\"Ramesh\",\"Suresh\",\"Mrinal\"]\n",
    "print(list_1)\n",
    "print(list_1[0])\n",
    "print(list_1[3])\n",
    "print(list_1[1:3])"
   ]
  },
  {
   "cell_type": "code",
   "execution_count": 23,
   "metadata": {},
   "outputs": [
    {
     "name": "stdout",
     "output_type": "stream",
     "text": [
      "['Satheesh', 'Ramesh', 'Suresh', 'Mrinal', 'Mahesh']\n"
     ]
    }
   ],
   "source": [
    "#Appendning to a List\n",
    "list_1.append(\"Mahesh\")\n",
    "print(list_1)"
   ]
  },
  {
   "cell_type": "code",
   "execution_count": 24,
   "metadata": {},
   "outputs": [
    {
     "name": "stdout",
     "output_type": "stream",
     "text": [
      "['Satheesh', 'Ramesh', 'Rahul', 'Mrinal', 'Mahesh']\n"
     ]
    }
   ],
   "source": [
    "#Updating A List\n",
    "list_1[2]=\"Rahul\"\n",
    "print(list_1)"
   ]
  },
  {
   "cell_type": "code",
   "execution_count": 25,
   "metadata": {},
   "outputs": [
    {
     "name": "stdout",
     "output_type": "stream",
     "text": [
      "['Satheesh', 'Ramesh', 'Mrinal', 'Mahesh']\n"
     ]
    }
   ],
   "source": [
    "#Deleting From a List\n",
    "del list_1[2]\n",
    "print(list_1)"
   ]
  },
  {
   "cell_type": "code",
   "execution_count": 33,
   "metadata": {},
   "outputs": [
    {
     "name": "stdout",
     "output_type": "stream",
     "text": [
      "The length of list is : 4\n",
      "['Satheesh', 'Ramesh', 'Mrinal', 'Mahesh', 'Sam', 'John', 'Mark']\n",
      "----------------------------------------------\n",
      "Org List1: ['Satheesh', 'Ramesh', 'Mrinal', 'Mahesh']\n",
      "Sorted List 1: ['Mahesh', 'Mrinal', 'Ramesh', 'Satheesh']\n"
     ]
    }
   ],
   "source": [
    "#Finding Length of a List\n",
    "print(\"The length of list is : \"+str(len(list_1)))\n",
    "#Concatenating two lists\n",
    "list_2=[\"Sam\",\"John\",\"Mark\"]\n",
    "list_3=list_1+list_2\n",
    "print(list_3)\n",
    "#Sorting a List\n",
    "print(\"----------------------------------------------\")\n",
    "print(\"Org List1: \"+str(list_1)+\"\\nSorted List 1: \"+str(sorted(list_1)))"
   ]
  },
  {
   "cell_type": "markdown",
   "metadata": {},
   "source": [
    "# Multidimensional Lists"
   ]
  },
  {
   "cell_type": "code",
   "execution_count": 40,
   "metadata": {},
   "outputs": [
    {
     "name": "stdout",
     "output_type": "stream",
     "text": [
      "--------Printing Entire List-------\n",
      "[['Prateek', 'Priyanka', 'Bahvesh'], [363, 458, 982]]\n",
      "--------Printing First Row---------\n",
      "['Prateek', 'Priyanka', 'Bahvesh']\n",
      "------Printing Priyankas Name------\n",
      "Priyanka\n",
      "------Printing Priyankas Marks------\n",
      "458\n"
     ]
    }
   ],
   "source": [
    "##################################\n",
    "#     0         1          2\n",
    "# 0 Prateek  Priyanka   Bhavesh\n",
    "# 1   363      458        982\n",
    "##################################\n",
    "student_marks=[[\"Prateek\",\"Priyanka\",\"Bahvesh\"],[363,458,982]]\n",
    "print(\"--------Printing Entire List-------\")\n",
    "print(student_marks)\n",
    "print(\"--------Printing First Row---------\")\n",
    "print(student_marks[0])\n",
    "print(\"------Printing Priyankas Name------\")\n",
    "print(student_marks[0][1])\n",
    "print(\"------Printing Priyankas Marks------\")\n",
    "print(student_marks[1][1])"
   ]
  },
  {
   "cell_type": "code",
   "execution_count": 45,
   "metadata": {},
   "outputs": [
    {
     "name": "stdout",
     "output_type": "stream",
     "text": [
      "Getting One Dimenstion List from 2nd to 3rd element of names\n",
      "['Priyanka', 'Bahvesh']\n",
      "Getting One Dimenstion List from 2nd to 3rd element of marks\n",
      "[458, 982]\n",
      "Printing Subset List\n",
      "[['Priyanka', 'Bahvesh'], [458, 982]]\n"
     ]
    }
   ],
   "source": [
    "#Getting Subset of a List\n",
    "print(\"Getting One Dimenstion List from 2nd to 3rd element of names\")\n",
    "print(student_marks[0][1:3])\n",
    "print(\"Getting One Dimenstion List from 2nd to 3rd element of marks\")\n",
    "print(student_marks[1][1:3])\n",
    "\n",
    "#Creating empty List 2 hold Priyankas and Bhaveshs marks\n",
    "subset_marks=[]\n",
    "for curr_1_dim_list in student_marks:\n",
    "    subset_marks.append(curr_1_dim_list[1:3])\n",
    "    \n",
    "print(\"Printing Subset List\")\n",
    "print(subset_marks)"
   ]
  },
  {
   "cell_type": "markdown",
   "metadata": {},
   "source": [
    "# Tuples"
   ]
  },
  {
   "cell_type": "code",
   "execution_count": 50,
   "metadata": {},
   "outputs": [
    {
     "name": "stdout",
     "output_type": "stream",
     "text": [
      "34\n",
      "3\n"
     ]
    }
   ],
   "source": [
    "#A tuple is a sequence of immutable Python objects. \n",
    "#Tuples are sequences, just like lists. \n",
    "#The differences between tuples and lists are, the tuples cannot be changed unlike lists and tuples use parentheses, whereas lists use square brackets\n",
    "#Tuples are very fast to process compared to Lists\n",
    "\n",
    "t1=(45,34,22)\n",
    "#### Accessing a Tuple\n",
    "print(t1[1])\n",
    "#### Finding Length of a Tuple\n",
    "print(len(t1))\n"
   ]
  },
  {
   "cell_type": "markdown",
   "metadata": {},
   "source": [
    "# Dictionaries"
   ]
  },
  {
   "cell_type": "code",
   "execution_count": 60,
   "metadata": {},
   "outputs": [
    {
     "name": "stdout",
     "output_type": "stream",
     "text": [
      "Printing Dictionary-----------\n",
      "{'name': 'Rahul', 'City': 'Bangalore', 'Age': 28}\n",
      "Printing Name from Dictionary-----------\n",
      "Rahul\n",
      "Updating Dictionary Key Name---------------------\n",
      "Printing Dictionary AFter Changing name-----------\n",
      "{'name': 'Rajesh', 'City': 'Bangalore', 'Age': 28}\n",
      "Adding new key to dictionary-------------\n",
      "Printing Dictionary AFter adding new key BldGrp-----------\n",
      "{'name': 'Rajesh', 'City': 'Bangalore', 'Age': 28, 'BldGrp': 'B+'}\n",
      "Deleting Dictionary Key Age---------------------\n",
      "Printing Dictionary AFter Deleting Dictionary Key Age-----------\n",
      "{'name': 'Rajesh', 'City': 'Bangalore', 'BldGrp': 'B+'}\n"
     ]
    }
   ],
   "source": [
    "# Dictionary in Python is an unordered collection of data values,\n",
    "# Its used to store data values like a map, which unlike other Data Types that hold only single value as an element\n",
    "# Dictionary holds key:value pair.\n",
    "\n",
    "#While List is preferrable to hold homogenous data Dictionary associates data using key value attributes\n",
    "\n",
    "userinfo_list=[\"Rahul\",\"Bangalore\",29]\n",
    "userinfo_dic={\"name\":\"Rahul\",\"City\":\"Bangalore\",\"Age\":28}\n",
    "print(\"Printing Dictionary-----------\")\n",
    "print(userinfo_dic)\n",
    "print(\"Printing Name from Dictionary-----------\")\n",
    "print(userinfo_dic[\"name\"])\n",
    "print(\"Updating Dictionary Key Name---------------------\")\n",
    "userinfo_dic[\"name\"]=\"Rajesh\"\n",
    "print(\"Printing Dictionary AFter Changing name-----------\")\n",
    "print(userinfo_dic)\n",
    "print(\"Adding new key to dictionary-------------\")\n",
    "userinfo_dic[\"BldGrp\"]=\"B+\"\n",
    "print(\"Printing Dictionary AFter adding new key BldGrp-----------\")\n",
    "print(userinfo_dic)\n",
    "print(\"Deleting Dictionary Key Age---------------------\")\n",
    "del userinfo_dic[\"Age\"]\n",
    "print(\"Printing Dictionary AFter Deleting Dictionary Key Age-----------\")\n",
    "print(userinfo_dic)"
   ]
  },
  {
   "cell_type": "code",
   "execution_count": 68,
   "metadata": {},
   "outputs": [
    {
     "name": "stdout",
     "output_type": "stream",
     "text": [
      "3\n",
      "dict_keys(['name', 'City', 'BldGrp'])\n",
      "dict_values(['Rajesh', 'Bangalore', 'B+'])\n"
     ]
    }
   ],
   "source": [
    "#Getting Length Of Dictionary no of key value pairs\n",
    "dictonary_len=len(userinfo_dic)\n",
    "print(dictonary_len)\n",
    "#Getting all the keys of Dictionary\n",
    "print(userinfo_dic.keys())\n",
    "#Getting all the values of Dictionary\n",
    "print(userinfo_dic.values())"
   ]
  },
  {
   "cell_type": "code",
   "execution_count": null,
   "metadata": {},
   "outputs": [],
   "source": []
  }
 ],
 "metadata": {
  "kernelspec": {
   "display_name": "Python 3",
   "language": "python",
   "name": "python3"
  },
  "language_info": {
   "codemirror_mode": {
    "name": "ipython",
    "version": 3
   },
   "file_extension": ".py",
   "mimetype": "text/x-python",
   "name": "python",
   "nbconvert_exporter": "python",
   "pygments_lexer": "ipython3",
   "version": "3.7.3"
  },
  "varInspector": {
   "cols": {
    "lenName": 16,
    "lenType": 16,
    "lenVar": 40
   },
   "kernels_config": {
    "python": {
     "delete_cmd_postfix": "",
     "delete_cmd_prefix": "del ",
     "library": "var_list.py",
     "varRefreshCmd": "print(var_dic_list())"
    },
    "r": {
     "delete_cmd_postfix": ") ",
     "delete_cmd_prefix": "rm(",
     "library": "var_list.r",
     "varRefreshCmd": "cat(var_dic_list()) "
    }
   },
   "position": {
    "height": "322.4px",
    "left": "666.2px",
    "right": "20px",
    "top": "197px",
    "width": "706px"
   },
   "types_to_exclude": [
    "module",
    "function",
    "builtin_function_or_method",
    "instance",
    "_Feature"
   ],
   "window_display": false
  }
 },
 "nbformat": 4,
 "nbformat_minor": 2
}
