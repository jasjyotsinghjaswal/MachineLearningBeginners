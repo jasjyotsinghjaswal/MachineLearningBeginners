{
 "cells": [
  {
   "cell_type": "markdown",
   "metadata": {},
   "source": [
    "# Understanding Population vs Samples"
   ]
  },
  {
   "cell_type": "markdown",
   "metadata": {},
   "source": [
    "<div  style=\"color:blue;font-family:Candara,arial,helvetica;line-height:20px\"><strong>\n",
    "\n",
    "## The study of statistics revolves around the study of data sets. This lesson describes two important types of data sets - populations and samples. Along the way, we'll introduce simple random sampling, the main method used in this tutorial to select samples.\n",
    "\n",
    "## The main difference between a population and sample has to do with how observations are assigned to the data set.\n",
    "\n",
    "\n",
    "### A population includes all of the elements from a set of data.\n",
    "### A sample consists one or more observations drawn from the population.\n",
    "\n",
    "### A measurable characteristic of a population, such as a mean or standard deviation, is called a parameter; but a measurable characteristic of a sample is called a statistic.\n",
    "\n",
    "\n",
    "<img src=\"https://ashutoshtripathicom.files.wordpress.com/2019/04/populationvssample-e1556351520474.png\" alt=\"drawing\" width=\"600\" height=\"300\"/> \n",
    "\n",
    "\n",
    "## Simple Random Sample\n",
    "\n",
    "### Simple random sampling is a statistical tool used to describe a very basic sample taken from a data population. This sample represents the equivalent of the entire population.\n",
    "\n",
    "### The simple random sample is often used when there is very little information available about the data population, when the data population has far too many differences to divide into various subsets, or when there is only one distinct characteristic among the data population.\n",
    "\n",
    "### For instance, a candy company may want to study the buying habits of its customers in order to determine the future of its product line. If there are 10,000 customers, it may use choose 100 of those customers as a random sample. It can then apply what it finds from those 100 customers to the rest of its base.\n",
    "\n",
    "### Statisticians will devise an exhaustive list of a data population and then select a random sample within that large group. In this sample, every member of the population has an equal chance of being selected to be part of the sample\n",
    "\n",
    "\n",
    "## Stratified Random Sampling\n",
    "\n",
    "### Unlike simple random samples, stratified random samples are used with populations that can be easily broken into different subgroups or subsets. These groups are based on certain criteria, then randomly choose elements from each in proportion to the group's size versus the population.\n",
    "\n",
    "### This method of sampling means there will be selections from each different group—the size of which is based on its proportion to the entire population. But the researchers must ensure the strata do not overlap. Each point in the population must only belong to one stratum so each point is mutually exclusive. Overlapping strata would increase the likelihood that some data are included, thus skewing the sample.\n",
    "\n",
    "### The candy company may decide to use the random stratified sampling method by dividing its 100 customers into different age groups to help make determinations about the future of its production.\n",
    "\n",
    "### Stratified sampling offers some advantages and disadvantages compared to simple random sampling. Because it uses specific characteristics, it can provide a more accurate representation of the population based on what's used to divide it into different subsets. This often requires a smaller sample size, which can save resources and time. In addition, by including sufficient sample points from each stratum, the researchers can conduct a separate analysis on each individual stratum.\n",
    "\n",
    "<img src=\"https://assets.law360news.com/1106000/1106385/graphic%201%20-%20srs.png\" alt=\"drawing\" width=\"600\" height=\"300\"/> \n",
    "\n",
    "\n",
    "\n",
    "</strong></div>"
   ]
  },
  {
   "cell_type": "markdown",
   "metadata": {},
   "source": [
    "# Sampling Bias"
   ]
  },
  {
   "cell_type": "markdown",
   "metadata": {},
   "source": [
    "<div  style=\"color:blue;font-family:Candara,arial,helvetica;line-height:20px\"><strong>\n",
    "\n",
    "\n",
    "### Sampling bias means that the samples of a stochastic variable that are collected to determine its distribution are selected incorrectly and do not represent the true distribution because of non-random reasons. Let us consider a specific example: we might want to predict the outcome of a presidential election by means of an opinion poll. Asking 1000 voters about their voting intentions can give a pretty accurate prediction of the likely winner, but only if our sample of 1000 voters is 'representative' of the electorate as a whole (i.e. unbiased). If we only poll the opinion of, 1000 white middle class college students, then the views of many important parts of the electorate as a whole (ethnic minorities, elderly people, blue-collar workers) are likely to be underrepresented in the sample, and our ability to predict the outcome of the election from that sample is reduced.\n",
    "\n",
    "### In an unbiased sample, differences between the samples taken from a random variable and its true distribution, or differences between the samples of units from a population and the entire population they represent, should result only from chance. If their differences are not only due to chance, then there is a sampling bias. Sampling bias often arises because certain values of the variable are systematically under-represented or over-represented with respect to the true distribution of the variable (like in our opinion poll example above). \n",
    "\n",
    "\n",
    "\n",
    "<img src=\"https://simon.cs.vt.edu/SoSci/converted/MMM/age2.gif\" alt=\"drawing\" width=\"600\" height=\"300\"/> \n",
    "\n",
    "</strong></div>"
   ]
  },
  {
   "cell_type": "markdown",
   "metadata": {},
   "source": [
    "# Correlation and Causality"
   ]
  },
  {
   "cell_type": "markdown",
   "metadata": {},
   "source": [
    "<div  style=\"color:blue;font-family:Candara,arial,helvetica;line-height:20px\"><strong>\n",
    "\n",
    "### Correlation suggests an association between two variables. Causality shows that one variable directly effects a change in the other. \n",
    "\n",
    "\n",
    "<img src=\"https://miro.medium.com/max/1200/1*8j7U89RK1SgopIGET0mSFA.png\" alt=\"drawing\" width=\"600\" height=\"300\"/> \n",
    "\n",
    "\n",
    "<img src=\"https://d35fo82fjcw0y8.cloudfront.net/2018/07/05092148/correlation-vs-causation-phone-RAM1-1024x574.png\" alt=\"drawing\" width=\"600\" height=\"300\"/> \n",
    "\n",
    "\n",
    "### A correlation coefficient is a numerical measure of some type of correlation, meaning a statistical relationship between two variables.\n",
    "\n",
    "\n",
    "\n",
    "\n",
    "<img src=\"http://www.thedataschool.co.uk/wp-content/uploads/2016/08/Pic-5-1.png\" alt=\"drawing\" width=\"600\" height=\"300\"/> \n",
    "\n",
    "\n",
    "<img src=\"https://slideplayer.com/slide/2808783/10/images/9/Correlation+Coefficient+-+Example.jpg\" alt=\"drawing\" width=\"600\" height=\"300\"/> \n",
    "\n",
    "<img src=\"http://sphweb.bumc.bu.edu/otlt/MPH-Modules/PH717-QuantCore/PH717-Module9-Correlation-Regression/Correlation%20Coefficient%20examples.png\" alt=\"drawing\" width=\"600\" height=\"300\"/> \n",
    "\n",
    "\n",
    "\n",
    "\n",
    "</strong></div>"
   ]
  },
  {
   "cell_type": "markdown",
   "metadata": {},
   "source": [
    "# Covariance and Covariance matrix"
   ]
  },
  {
   "cell_type": "markdown",
   "metadata": {},
   "source": [
    "<div  style=\"color:blue;font-family:Candara,arial,helvetica;line-height:20px\"><strong>\n",
    "\n",
    "\n",
    "### Covariance is a statistical tool that is used to determine the relationship between the movement of two asset prices. When two stocks tend to move together, they are seen as having a positive covariance; when they move inversely, the covariance is negative\n",
    "\n",
    "<img src=\"https://cdn.wallstreetmojo.com/wp-content/uploads/2019/03/Covariance-Formula.jpg\" alt=\"drawing\" width=\"600\" height=\"300\"/> \n",
    "\n",
    "\n",
    "### In probability theory and statistics, a covariance matrix, also known as auto-covariance matrix, dispersion matrix, variance matrix, or variance–covariance matrix, is a matrix whose element in the i, j position is the covariance between the i-th and j-th elements of a random vector.\n",
    "\n",
    "\n",
    "\n",
    "<img src=\"https://csvance.github.io/assets/img/covariance_matrix.png\" alt=\"drawing\" width=\"600\" height=\"300\"/> \n",
    "\n",
    "\n",
    "### Covariance matrix is used as Transformation matrix to get eigen vector and eigen values and also in Financial Portfolia management \n",
    "\n",
    "</strong></div>"
   ]
  },
  {
   "cell_type": "markdown",
   "metadata": {},
   "source": [
    "# Probability Distribution"
   ]
  },
  {
   "cell_type": "markdown",
   "metadata": {},
   "source": [
    "<div  style=\"color:blue;font-family:Candara,arial,helvetica;line-height:20px\"><strong>\n",
    "\n",
    "### Distribution is a mathematical function which provides probabilities of occurence of different possible outcomes of an experiment\n",
    "\n",
    "### A discrete random variable x has a countable number of possible values. The probability distribution of a discrete random variable x lists the values and their probabilities, where value x1 has probability p1 , value x2 has probability x2 , and so on.\n",
    "\n",
    "<img src=\"https://encrypted-tbn0.gstatic.com/images?q=tbn:ANd9GcT-tQSPSvrBihMKth9Bb1avfgp5_8_14aPlt8y1OFTyKuV9VWMG-Q&s\" alt=\"drawing\" width=\"600\" height=\"300\"/> \n",
    "\n",
    "\n",
    "<img src=\"https://wiki.ubc.ca/images/thumb/2/21/MATH105DiceDistPDF.png/300px-MATH105DiceDistPDF.png\" alt=\"drawing\" width=\"600\" height=\"300\"/> \n",
    "\n",
    "### If a random variable is a continuous variable, its probability distribution is called a continuous probability distribution. A continuous probability distribution differs from a discrete probability distribution in several ways. The probability that a continuous random variable will assume a particular value is zero.\n",
    "### When we represent Continous variables using Histograms and keep reducing bin size the Bars will become smaller such that when we connect the top end of these bars it will appear a smooth curve which is nothig but probability density function\n",
    "\n",
    "<img src=\"https://images.slideplayer.com/42/11572978/slides/slide_14.jpg\" alt=\"drawing\" width=\"600\" height=\"300\"/> \n",
    "\n",
    "\n",
    "</strong></div>"
   ]
  },
  {
   "cell_type": "markdown",
   "metadata": {},
   "source": [
    "# Normal distribution"
   ]
  },
  {
   "cell_type": "markdown",
   "metadata": {},
   "source": [
    "<div  style=\"color:blue;font-family:Candara,arial,helvetica;line-height:20px\"><strong>\n",
    "\n",
    "\n",
    "\n",
    "### The normal distribution is a probability function that describes how the values of a variable are distributed. It is a symmetric distribution where most of the observations cluster around the central peak and the probabilities for values further away from the mean taper off equally in both directions.\n",
    "\n",
    "\n",
    "<img src=\"https://miro.medium.com/max/24000/1*IZ2II2HYKeoMrdLU5jW6Dw.png\" alt=\"drawing\" width=\"600\" height=\"300\"/> \n",
    "\n",
    "\n",
    "### In probability theory, a probability density function, or density of a continuous random variable, is a function whose value at any given sample in the sample space can be interpreted as providing a relative likelihood that the value of the random variable would equal that sample\n",
    "\n",
    "\n",
    "\n",
    "<img src=\"https://sites.nicholas.duke.edu/statsreview/files/2013/06/normpdf1.jpg\" alt=\"drawing\" width=\"600\" height=\"300\"/> \n",
    "\n",
    "\n",
    "<img src=\"https://i.ytimg.com/vi/4rdgdDmyCpg/hqdefault.jpg\" alt=\"drawing\" width=\"600\" height=\"300\"/> \n",
    "\n",
    "\n",
    "</strong></div>"
   ]
  },
  {
   "cell_type": "markdown",
   "metadata": {},
   "source": [
    "# Standard Normal Distribution"
   ]
  },
  {
   "cell_type": "markdown",
   "metadata": {},
   "source": [
    "<div  style=\"color:blue;font-family:Candara,arial,helvetica;line-height:20px\"><strong>\n",
    "\n",
    "\n",
    "\n",
    "### The standard normal distribution is a special case of the normal distribution . It is the distribution that occurs when a normal random variable has a mean of zero and a standard deviation of one. The normal random variable of a standard normal distribution is called a standard score or a z score.\n",
    "\n",
    "\n",
    "<img src=\"https://www.intmath.com/counting-probability/svg/svgphp-normal-probability-distribution-14-s1.svg\" alt=\"drawing\" width=\"600\" height=\"300\"/> \n",
    "\n",
    "### What Is a Z-Score? A Z-score is a numerical measurement used in statistics of a value's relationship to the mean (average) of a group of values, measured in terms of standard deviations from the mean. If a Z-score is 0, it indicates that the data point's score is identical to the mean score.\n",
    "\n",
    "<img src=\"https://www.simplypsychology.org/Z-score-formula.jpg\" alt=\"drawing\" width=\"600\" height=\"300\"/> \n",
    "\n",
    "\n",
    "\n",
    "## Z Score Table\n",
    "\n",
    "### A Z-Score Table is a table which shows the percentage of values (or area percentage) to the left of a given z-score on a standard normal distribution. There are two Z-score tables: 1) Positive Z- score table. A positive Z-score means that the observed value is above the mean of total values.\n",
    "\n",
    "<img src=\"http://www.z-table.com/uploads/2/1/7/9/21795380/9340559_orig.png\" alt=\"drawing\" width=\"600\" height=\"300\"/> \n",
    "\n",
    "\n",
    "\n",
    "</strong></div>"
   ]
  },
  {
   "cell_type": "markdown",
   "metadata": {},
   "source": [
    "# Sampling Distribution  & Central limit theoreum "
   ]
  },
  {
   "cell_type": "markdown",
   "metadata": {},
   "source": [
    "<div  style=\"color:blue;font-family:Candara,arial,helvetica;line-height:20px\"><strong>\n",
    "    \n",
    "### In statistics, a sampling distribution or finite-sample distribution is the probability distribution of a given random-sample-based statistic.   \n",
    "\n",
    "\n",
    "\n",
    "<img src=\"https://encrypted-tbn0.gstatic.com/images?q=tbn:ANd9GcQmA2BDt_kZjZv0-MRfHxnZbuathRIiJWMjM6juHXzEdBNLMG04&s\" alt=\"drawing\" width=\"600\" height=\"300\"/> \n",
    "\n",
    "### In probability theory, the central limit theorem establishes that, in some situations, when independent random variables are added, their properly normalized sum tends toward a normal distribution even if the original variables themselves are not normally\n",
    "    \n",
    "</strong></div>"
   ]
  },
  {
   "cell_type": "markdown",
   "metadata": {},
   "source": [
    "# Confidence Interval"
   ]
  },
  {
   "cell_type": "markdown",
   "metadata": {},
   "source": [
    "<div  style=\"color:blue;font-family:Candara,arial,helvetica;line-height:20px\"><strong>\n",
    "    \n",
    "    \n",
    "## In statistics, a confidence interval is a type of interval estimate, computed from the statistics of the observed data, that might contain the true value of an unknown population parameter.\n",
    "\n",
    "<img src=\"https://financetrain.com/assets/ci11.png\" alt=\"drawing\" width=\"600\" height=\"300\"/>\n",
    "\n",
    "<img src=\"http://knowledgehills.com/content/images/Six-Sigma/Six-Sigma-Z-Confidence-Interval-Means-Formula1.gif\" alt=\"drawing\" width=\"600\" height=\"300\"/>\n",
    "\n",
    "\n",
    "</strong></div>"
   ]
  },
  {
   "cell_type": "markdown",
   "metadata": {},
   "source": [
    "# Hypothesis Testing"
   ]
  },
  {
   "cell_type": "markdown",
   "metadata": {},
   "source": [
    "<div  style=\"color:blue;font-family:Candara,arial,helvetica;line-height:20px\"><strong>\n",
    "\n",
    "### A statistical hypothesis, sometimes called confirmatory data analysis, is a hypothesis that is testable on the basis of observing a process that is modeled via a set of random variables. A statistical hypothesis test is a method of statistical inference. \n",
    "\n",
    "<img src=\"https://www.thoughtco.com/thmb/I-b-VFIWUsxXcfR3lBUGoUwJfnY=/768x0/filters:no_upscale():max_bytes(150000):strip_icc()/null-hypothesis-vs-alternative-hypothesis-3126413-v31-5b69a6a246e0fb0025549966.png                \n",
    "\" alt=\"drawing\" width=\"600\" height=\"300\"/> \n",
    "\n",
    "\n",
    "\n",
    "\n",
    "\n",
    "</strong></div>"
   ]
  },
  {
   "cell_type": "markdown",
   "metadata": {},
   "source": [
    "# Statistical Significance"
   ]
  },
  {
   "cell_type": "markdown",
   "metadata": {},
   "source": [
    "<div  style=\"color:blue;font-family:Candara,arial,helvetica;line-height:20px\"><strong>\n",
    "\n",
    "\n",
    "What is statistical significance? “Statistical significance helps quantify whether a result is likely due to chance or to some factor of interest,” says Redman. When a finding is significant, it simply means you can feel confident that's it real, not that you just got lucky (or unlucky) in choosing the sample.\n",
    "\n",
    "</strong></div>"
   ]
  },
  {
   "cell_type": "markdown",
   "metadata": {},
   "source": [
    "# Hypothesis Testing Example"
   ]
  },
  {
   "cell_type": "markdown",
   "metadata": {},
   "source": [
    "### Null hypotheis says there is no difference in Population mean and sample mean when P>a wheras ALternative Hypotheis means there is difference between sample and population mean when P<a"
   ]
  },
  {
   "cell_type": "code",
   "execution_count": null,
   "metadata": {},
   "outputs": [],
   "source": []
  }
 ],
 "metadata": {
  "kernelspec": {
   "display_name": "Python 3",
   "language": "python",
   "name": "python3"
  },
  "language_info": {
   "codemirror_mode": {
    "name": "ipython",
    "version": 3
   },
   "file_extension": ".py",
   "mimetype": "text/x-python",
   "name": "python",
   "nbconvert_exporter": "python",
   "pygments_lexer": "ipython3",
   "version": "3.7.3"
  },
  "varInspector": {
   "cols": {
    "lenName": 16,
    "lenType": 16,
    "lenVar": 40
   },
   "kernels_config": {
    "python": {
     "delete_cmd_postfix": "",
     "delete_cmd_prefix": "del ",
     "library": "var_list.py",
     "varRefreshCmd": "print(var_dic_list())"
    },
    "r": {
     "delete_cmd_postfix": ") ",
     "delete_cmd_prefix": "rm(",
     "library": "var_list.r",
     "varRefreshCmd": "cat(var_dic_list()) "
    }
   },
   "types_to_exclude": [
    "module",
    "function",
    "builtin_function_or_method",
    "instance",
    "_Feature"
   ],
   "window_display": false
  }
 },
 "nbformat": 4,
 "nbformat_minor": 2
}
