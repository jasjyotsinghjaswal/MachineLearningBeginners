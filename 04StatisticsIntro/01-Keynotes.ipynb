{
 "cells": [
  {
   "cell_type": "markdown",
   "metadata": {},
   "source": [
    "# What is qualitative data?"
   ]
  },
  {
   "cell_type": "markdown",
   "metadata": {},
   "source": [
    "\n",
    "<div  style=\"color:blue;font-family:Candara,arial,helvetica;line-height:20px\"><strong>\n",
    "    \n",
    "### Qualitative data is non-statistical and is typically unstructured or semi-structured in nature. This data isn’t necessarily measured using hard numbers used to develop graphs and charts. Instead, it is categorized based on properties, attributes, labels, and other identifiers.\n",
    "\n",
    "### Qualitative data can be used to ask the question “why.” \n",
    "\n",
    "### 1.Nominal Data\n",
    "#### Nominal data is named data which can be separated into discrete categories which do not overlap. A common example of nominal data is gender; male and female. Other examples include eye colour and hair colour.  An easy way to remember this type of data is that nominal sounds like named, nominal = named.\n",
    "\n",
    "### 2.Ordinal Data\n",
    "#### Ordinal data is data which is placed into some kind of order or scale. (Again, this is easy to remember because ordinal sounds like order). An example of ordinal data is rating happiness on a scale of 1-10.\n",
    "   \n",
    "   \n",
    "\n",
    "</strong></div>"
   ]
  },
  {
   "cell_type": "markdown",
   "metadata": {},
   "source": [
    "# What is quantitative data?"
   ]
  },
  {
   "cell_type": "markdown",
   "metadata": {},
   "source": [
    "\n",
    "<div  style=\"color:blue;font-family:Candara,arial,helvetica;line-height:20px\"><strong>\n",
    "    \n",
    "### Quantitative data is statistical and is typically structured in nature – meaning it is more rigid and defined. This type of data is measured using numbers and values, which makes it a more suitable candidate for data analysis.\n",
    "\n",
    "###  It can be used to ask the questions “how much” or “how many,” followed by conclusive information.\n",
    "\n",
    "\n",
    "### 1.Discrete data\n",
    "#### Discrete data is just data that cannot be broken down into smaller parts. This type of data consists of integers (positive and negative numbers e.g. -100, 10, 100...) and is finite (meaning it reaches a limit).\n",
    "#### A few examples of discrete data would be how much change you have in your pocket, how many iPhones were sold last year, and how much traffic came to your website today.\n",
    "\n",
    "\n",
    "### 2.Continuous data\n",
    "#### Continuous data is data that can be infinitely broken down into smaller parts or data that continuously fluctuates.\n",
    "#### A few examples of continuous data would be the speed of your train during the morning commute, the time it takes to write an article, your weight, and your age.\n",
    "</strong></div>\n",
    "\n"
   ]
  },
  {
   "cell_type": "markdown",
   "metadata": {},
   "source": [
    "# Dependent and Independent Variables"
   ]
  },
  {
   "cell_type": "markdown",
   "metadata": {},
   "source": [
    "<div  style=\"color:blue;font-family:Candara,arial,helvetica;line-height:20px\"><strong>\n",
    "\n",
    "Independent variables (also referred to as Features) are the input for a process that is being analyzed. Dependent variables are the output of the process.\n",
    "\n",
    "For example, in the below data set, the independent variables are the input of the purchasing process being analyzed. The result (whether a user purchased or not) is the dependent variable.\n",
    "</strong></div>\n",
    "\n",
    "<img src=\"https://dailysmarty-production.s3.amazonaws.com/uploads/ckeditor/pictures/17/content_Snip20170708_7.png\" alt=\"drawing\" width=\"600\" height=\"600\"/> "
   ]
  },
  {
   "cell_type": "markdown",
   "metadata": {},
   "source": [
    "# Measure of Central Tendency"
   ]
  },
  {
   "cell_type": "markdown",
   "metadata": {},
   "source": [
    "<div  style=\"color:blue;font-family:Candara,arial,helvetica;line-height:20px\"><strong>\n",
    "\n",
    "## The individual observation of a distribution or data set are found to have general tendency to cluster around a certain point,somewhere at the center of the distribution.This tendency of the observations is called central tendency ,and it's numerical measure are known the measure of central tendency.\n",
    "\n",
    "\n",
    "\n",
    "<img src=\"https://simon.cs.vt.edu/SoSci/converted/MMM/age2.gif\" alt=\"drawing\" width=\"600\" height=\"300\"/> \n",
    "\n",
    "</strong></div>"
   ]
  },
  {
   "cell_type": "markdown",
   "metadata": {},
   "source": [
    "# Mean,Median,Mode"
   ]
  },
  {
   "cell_type": "markdown",
   "metadata": {},
   "source": [
    "\n",
    "<div  style=\"color:blue;font-family:Candara,arial,helvetica;line-height:20px\"><strong>\n",
    "    \n",
    "### The most common expression for the mean of a statistical distribution with a discrete random variable is the mathematical average of all the terms. To calculate it, add up the values of all the terms and then divide by the number of terms.\n",
    "\n",
    "### The median of a distribution with a discrete random variable depends on whether the number of terms in the distribution is even or odd. If the number of terms is odd, then the median is the value of the term in the middle. This is the value such that the number of terms having values greater than or equal to it is the same as the number of terms having values less than or equal to it. If the number of terms is even, then the median is the average of the two terms in the middle\n",
    "\n",
    "### The mode of a distribution with a discrete random variable is the value of the term that occurs the most often. It is not uncommon for a distribution with a discrete random variable to have more than one mode, especially if there are not many terms. This happens when two or more terms occur with equal frequency, and more often than any of the others.\n",
    "\n",
    "</strong></div>\n",
    "\n",
    "<img src=\"https://allpsych.com/wp-content/uploads/2014/08/averages.gif\" alt=\"drawing\" width=\"600\" height=\"600\"/> \n",
    "\n"
   ]
  },
  {
   "cell_type": "markdown",
   "metadata": {},
   "source": [
    "# What is an outlier?"
   ]
  },
  {
   "cell_type": "markdown",
   "metadata": {},
   "source": [
    "<div  style=\"color:blue;font-family:Candara,arial,helvetica;line-height:20px\"><strong>\n",
    "    \n",
    "### An outlier is a piece of data that is an abnormal distance from other points. In other words, it’s data that lies outside the other values in the set. If you had Pinocchio in a class of children, the length of his nose compared to the other children would be an outlier.\n",
    "### In this set of random numbers, 1 and 201 are outliers:\n",
    "### 1, 99, 100, 101, 103, 109, 110, 201\n",
    "\n",
    "</strong></div>\n"
   ]
  },
  {
   "cell_type": "markdown",
   "metadata": {},
   "source": [
    "# What is Dispersion"
   ]
  },
  {
   "cell_type": "markdown",
   "metadata": {},
   "source": [
    "<div  style=\"color:blue;font-family:Candara,arial,helvetica;line-height:20px\"><strong>\n",
    "    \n",
    "### Dispersion is the measure how far various data points are spread away from the mean\n",
    "\n",
    "### Variance\n",
    "#### The variance is the average of the squared differences from the mean. To figure out the variance, first calculate the difference between each point and the mean; then, square and average the results.\n",
    "\n",
    "### Standard Deviation\n",
    "#### Standard deviation is a statistic that looks at how far from the mean a group of numbers is, by using the square root of the variance. The calculation of variance uses squares because it weights outliers more heavily than data very near the mean. This calculation also prevents differences above the mean from canceling out those below, which can sometimes result in a variance of zero.\n",
    "\n",
    "</strong></div>\n",
    "\n",
    "<img src=\"http://daydreamingnumbers.com/wp-content/uploads/2019/02/Range_Variance_Standard-Deviation-1024x788.png\" alt=\"drawing\" width=\"600\" height=\"600\"/> \n",
    "\n"
   ]
  },
  {
   "cell_type": "markdown",
   "metadata": {},
   "source": [
    "# Hands on"
   ]
  },
  {
   "cell_type": "code",
   "execution_count": 18,
   "metadata": {},
   "outputs": [
    {
     "name": "stdout",
     "output_type": "stream",
     "text": [
      "Mean for Data is 168.456\n",
      "Mode for Data is 157.48\n",
      "Median for Data is 168.91\n",
      "Variance for Data is 91.46069333333338\n",
      "SD for Data is 9.563508421773538\n"
     ]
    }
   ],
   "source": [
    "import statistics as stats\n",
    "data=[170.18,170.18,157.48,157.48,172.72,180.34,167.64,165.64,157.48,185.42]\n",
    "dataMean=stats.mean(data)\n",
    "dataMode=stats.mode(data)\n",
    "dataMedian=stats.median(data)\n",
    "dataVar=stats.variance(data)\n",
    "dataStdDev=stats.stdev(data)\n",
    "print(\"Mean for Data is \"+str(dataMean))\n",
    "print(\"Mode for Data is \"+str(dataMode))\n",
    "print(\"Median for Data is \"+str(dataMedian))\n",
    "print(\"Variance for Data is \"+str(dataVar))\n",
    "print(\"SD for Data is \"+str(dataStdDev))"
   ]
  },
  {
   "cell_type": "markdown",
   "metadata": {},
   "source": [
    "# Percentile,Range,IQR"
   ]
  },
  {
   "cell_type": "markdown",
   "metadata": {},
   "source": [
    "<div  style=\"color:blue;font-family:Candara,arial,helvetica;line-height:20px\"><strong>\n",
    "\n",
    "\n",
    "## A percentile is a measure used in statistics indicating the value below which a given percentage of observations in a group of observations falls. For example, the 20th percentile is the value below which 20% of the observations may be found.\n",
    "\n",
    "\n",
    "## In statistics, the range of a set of data is the difference between the largest and smallest values. Difference here is specific, the range of a set of data is the result of subtracting the smallest value from largest value. \n",
    "\n",
    "## The IQR describes the middle 50% of values when ordered from lowest to highest. To find the interquartile range (IQR), ​first find the median (middle value) of the lower and upper half of the data. These values are quartile 1 (Q1) and quartile 3 (Q3). The IQR is the difference between Q3 and Q1.\n",
    "\n",
    "\n",
    "<img src=\"http://sphweb.bumc.bu.edu/otlt/mph-modules/bs/bs704_summarizingdata/Interquartile-Even.png\" alt=\"drawing\" width=\"600\" height=\"300\"/> \n",
    "\n",
    "\n",
    "</div>"
   ]
  },
  {
   "cell_type": "code",
   "execution_count": null,
   "metadata": {},
   "outputs": [],
   "source": []
  }
 ],
 "metadata": {
  "kernelspec": {
   "display_name": "Python 3",
   "language": "python",
   "name": "python3"
  },
  "language_info": {
   "codemirror_mode": {
    "name": "ipython",
    "version": 3
   },
   "file_extension": ".py",
   "mimetype": "text/x-python",
   "name": "python",
   "nbconvert_exporter": "python",
   "pygments_lexer": "ipython3",
   "version": "3.7.3"
  },
  "varInspector": {
   "cols": {
    "lenName": 16,
    "lenType": 16,
    "lenVar": 40
   },
   "kernels_config": {
    "python": {
     "delete_cmd_postfix": "",
     "delete_cmd_prefix": "del ",
     "library": "var_list.py",
     "varRefreshCmd": "print(var_dic_list())"
    },
    "r": {
     "delete_cmd_postfix": ") ",
     "delete_cmd_prefix": "rm(",
     "library": "var_list.r",
     "varRefreshCmd": "cat(var_dic_list()) "
    }
   },
   "position": {
    "height": "191.4px",
    "left": "1146.4px",
    "right": "20px",
    "top": "121px",
    "width": "350px"
   },
   "types_to_exclude": [
    "module",
    "function",
    "builtin_function_or_method",
    "instance",
    "_Feature"
   ],
   "window_display": false
  }
 },
 "nbformat": 4,
 "nbformat_minor": 2
}
