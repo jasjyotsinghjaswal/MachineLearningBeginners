{
 "cells": [
  {
   "cell_type": "markdown",
   "metadata": {},
   "source": [
    "# What is a Vector?"
   ]
  },
  {
   "cell_type": "markdown",
   "metadata": {},
   "source": [
    "<div  style=\"color:blue;font-family:Candara,arial,helvetica;line-height:20px\"><strong>\n",
    "\n",
    "## In mathematics, physics, and engineering, a Euclidean vector is a geometric object that has magnitude and direction.\n",
    "### There are represented as Polar or Cartersian coordinates\n",
    "\n",
    "<img src=\"https://cdn.kastatic.org/ka-perseus-images/1559d8785a298fdd0bac0443388b3812c4327ec3.png\" alt=\"drawing\" width=\"500\" height=\"450\"/> \n",
    "\n",
    "\n",
    "<img src=\"http://www.maths.usyd.edu.au/u/MOW/vectors/images/v0630x.gif\" alt=\"drawing\" width=\"500\" height=\"450\"/> \n",
    "\n",
    "## A unit vector is a vector that has a magnitude of 1.\n",
    "\n",
    "</strong></div>"
   ]
  },
  {
   "cell_type": "markdown",
   "metadata": {},
   "source": [
    "# Matrices & Operations\n"
   ]
  },
  {
   "cell_type": "markdown",
   "metadata": {},
   "source": [
    "<div  style=\"color:blue;font-family:Candara,arial,helvetica;line-height:20px\"><strong>\n",
    "\n",
    "## In mathematics, a matrix is a rectangular array of numbers, symbols, or expressions, arranged in rows and columns.\n",
    "\n",
    "<img src=\"https://slideplayer.com/slide/7752437/25/images/10/a.+To+represent+data+using+a+matrix%2C+choose+which+category+will+be+represented+by+the+columns+and+which+will+be+represented+by+the+rows.+Let%E2%80%99s+use+the+columns+to+represent+the+prices+at+each+restaurant+and+the+rows+to+represent+the+prices+of+each+dessert.+Then+write+each+data+piece+as+you+would+if+you+were+placing+the+data+in+a+table..jpg\n",
    "\" alt=\"drawing\" width=\"500\" height=\"450\"/> \n",
    "\n",
    "\n",
    "\n",
    "## Matrix Addition and Subtraction\n",
    "<img src=\"http://thejuniverse.org/PUBLIC/LinearAlgebra/MATH-232/Unit.1/Presentation.2/Section1B/addSubtract.png\" alt=\"drawing\" width=\"500\" height=\"450\"/> \n",
    "\n",
    "\n",
    "## Matrix Scalar Multiplication\n",
    "\n",
    "<img src=\"https://miro.medium.com/max/581/1*FXdJyoPPT1mkH-OyG4MHbg.png\" alt=\"drawing\" width=\"500\" height=\"450\"/> \n",
    "\n",
    "## Matrix Dot Product\n",
    "\n",
    "### In order for matrix multiplication to be defined, the number of columns in the first matrix must be equal to the number of rows in the second matrix. To find A B AB AB , we take the dot product of a row in A and a column in B.\n",
    "\n",
    "<img src=\"https://www.mathsisfun.com/algebra/images/matrix-multiply-a.svg\" alt=\"drawing\" width=\"500\" height=\"450\"/> \n",
    "\n",
    "<img src=\"https://hadrienj.github.io/assets/images/2.2/dot-product.png\" alt=\"drawing\" width=\"500\" height=\"450\"/> \n",
    "\n",
    "## Identity Matrix\n",
    "\n",
    "### In linear algebra, the identity matrix, or sometimes ambiguously called a unit matrix, of size n is the n × n square matrix with ones on the main diagonal and zeros elsewhere. It is denoted by Iₙ, or simply by I\n",
    "\n",
    "<img src=\"https://mathpullzone-8231.kxcdn.com/wp-content/uploads/Identity-matrix-examples.png\" alt=\"drawing\" width=\"500\" height=\"450\"/> \n",
    "\n",
    "### Multiplying any matrix by the identity results in the matrix itself.\n",
    "\n",
    "<img src=\"https://slideplayer.com/slide/7841677/25/images/2/Identity+Matrix+Any+number+multiplied+by+1+is+the+same+number+%28multiplicative+identity%29.+What+is+the+multiplicative+identity+for+a+matrix.jpg\" alt=\"drawing\" width=\"500\" height=\"450\"/> \n",
    "\n",
    "\n",
    "## Determinant Of Matrix\n",
    "\n",
    "### In linear algebra, the determinant is a scalar value that can be computed from the elements of a square matrix and encodes certain properties of the linear transformation described by the matrix. The determinant of a matrix A is denoted det(A), det A, or |A|.\n",
    "\n",
    "\n",
    "<img src=\"http://4.bp.blogspot.com/-O_ZhwB6JzVI/VIGIe69CSZI/AAAAAAAAQkQ/PYeW0IpLLyg/s1600/determinant.gif\" alt=\"drawing\" width=\"500\" height=\"450\"/> \n",
    "\n",
    "\n",
    "<img src=\"http://mathworld.wolfram.com/images/equations/Determinant/NumberedEquation4.gif\" alt=\"drawing\" width=\"500\" height=\"450\"/> \n",
    "\n",
    "## Inverse Of Matrix\n",
    "\n",
    "### In linear algebra, an n-by-n square matrix A is called invertible if there exists an n-by-n square matrix B such that where Iₙ denotes the n-by-n identity matrix and the multiplication used is ordinary matrix multiplication.\n",
    "<img src=\"http://www.statisticslectures.com/images/identity3.gif\" alt=\"drawing\" width=\"500\" height=\"450\"/> \n",
    "\n",
    "## Transpose of Matrix\n",
    "\n",
    "## In linear algebra, the transpose of a matrix is an operator which flips a matrix over its diagonal, that is it switches the row and column indices of the matrix by producing another matrix denoted as Aᵀ.\n",
    "\n",
    "\n",
    "<img src=\"https://1.bp.blogspot.com/-WTc27SMnQx4/WAzXNmAgGWI/AAAAAAAAHYo/QnT-9zrpXOwwN70EC2FEZXl6TAQ7dEs3gCLcB/s1600/Program%2Bto%2Btranspose%2Ba%2BMatrix%2Bin%2BJava.png\" alt=\"drawing\" width=\"500\" height=\"450\"/> \n",
    "\n",
    "</strong></div>"
   ]
  },
  {
   "cell_type": "markdown",
   "metadata": {},
   "source": [
    "# Vector Transformation"
   ]
  },
  {
   "cell_type": "markdown",
   "metadata": {},
   "source": [
    "<div  style=\"color:blue;font-family:Candara,arial,helvetica;line-height:20px\"><strong>\n",
    "\n",
    "\n",
    "## In linear algebra, linear transformations can be represented by matrices. If is a linear transformation mapping to and is a column vector with entries, then for some matrix, called the transformation matrix of. \n",
    "\n",
    "\n",
    "<img src=\"http://polymathprogrammer.com/images/blog/200809/translationmatrix.png\" alt=\"drawing\" width=\"500\" height=\"450\"/> \n",
    "\n",
    "## We can scale vector up or down This is useful when dealing with large set of variable and we need to scale them down and reduce the number of dimensions .\n",
    "</strong></div>"
   ]
  },
  {
   "cell_type": "markdown",
   "metadata": {},
   "source": [
    "# Change of Bases"
   ]
  },
  {
   "cell_type": "markdown",
   "metadata": {},
   "source": [
    "<div  style=\"color:blue;font-family:Candara,arial,helvetica;line-height:20px\"><strong>\n",
    "\n",
    "\n",
    "## A linear combination of one basis set of vectors (purple) obtains new vectors (red). If they are linearly independent, these form a new basis set. The linear combinations relating the first set to the other extend to a linear transformation, called the change of basis.\n",
    "\n",
    "<img src=\"https://encrypted-tbn0.gstatic.com/images?q=tbn:ANd9GcQnCVY71qHPOoPxn-dmulZFtZbqjYNBHUVyR8C3vo0HqIime4j_&s\" alt=\"drawing\" width=\"500\" height=\"450\"/> \n",
    "\n",
    "<img src=\"https://encrypted-tbn0.gstatic.com/images?q=tbn:ANd9GcSpxWFhc64exf8bTr282ID3b82EQ8ZKmd3utPeJ2fxNS-KS3knn&s\" alt=\"drawing\" width=\"500\" height=\"450\"/> \n",
    "\n",
    "\n",
    "</strong></div>"
   ]
  },
  {
   "cell_type": "markdown",
   "metadata": {},
   "source": [
    "# Eigen Vector and Eigen Values"
   ]
  },
  {
   "cell_type": "markdown",
   "metadata": {},
   "source": [
    "<div  style=\"color:blue;font-family:Candara,arial,helvetica;line-height:20px\"><strong>\n",
    "\n",
    "## Eigenvector is just a fancy term for a vector that does not change direction, only magnitude, when multiplied with a matrix. That is to say eigenvectors are only scaled - the scaling factor is the eigenvalue \n",
    "\n",
    "<img src=\"https://www.albert.io/blog/wp-content/uploads/2016/05/500px-Eigenvalue_equation.svg-300x240.png\" alt=\"drawing\" width=\"500\" height=\"450\"/> \n",
    "\n",
    "</strong></div>"
   ]
  },
  {
   "cell_type": "code",
   "execution_count": null,
   "metadata": {},
   "outputs": [],
   "source": []
  }
 ],
 "metadata": {
  "kernelspec": {
   "display_name": "Python 3",
   "language": "python",
   "name": "python3"
  },
  "language_info": {
   "codemirror_mode": {
    "name": "ipython",
    "version": 3
   },
   "file_extension": ".py",
   "mimetype": "text/x-python",
   "name": "python",
   "nbconvert_exporter": "python",
   "pygments_lexer": "ipython3",
   "version": "3.7.3"
  },
  "varInspector": {
   "cols": {
    "lenName": 16,
    "lenType": 16,
    "lenVar": 40
   },
   "kernels_config": {
    "python": {
     "delete_cmd_postfix": "",
     "delete_cmd_prefix": "del ",
     "library": "var_list.py",
     "varRefreshCmd": "print(var_dic_list())"
    },
    "r": {
     "delete_cmd_postfix": ") ",
     "delete_cmd_prefix": "rm(",
     "library": "var_list.r",
     "varRefreshCmd": "cat(var_dic_list()) "
    }
   },
   "types_to_exclude": [
    "module",
    "function",
    "builtin_function_or_method",
    "instance",
    "_Feature"
   ],
   "window_display": false
  }
 },
 "nbformat": 4,
 "nbformat_minor": 2
}
