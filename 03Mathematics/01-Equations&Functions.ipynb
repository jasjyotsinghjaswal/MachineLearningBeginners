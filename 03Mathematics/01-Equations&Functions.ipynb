{
 "cells": [
  {
   "cell_type": "markdown",
   "metadata": {},
   "source": [
    "# Algebraic Equations"
   ]
  },
  {
   "cell_type": "markdown",
   "metadata": {},
   "source": [
    "<div  style=\"color:blue;font-family:Candara,arial,helvetica;line-height:20px\"><strong>\n",
    "    \n",
    "### Algebra consists of Variables(x,y,z) and constants grouped by an equation.And consequently Equation tries to balance both\n",
    "\n",
    "#### Expression on the left should be equal to expression on the right hand side\n",
    "\n",
    "#### (i)7x-6=15\n",
    "#### (ii)7x=15+6\n",
    "#### (iii)7x=21\n",
    "#### (iv)x=21/7\n",
    "#### (v)x=3\n",
    "#### Verifying the Equation 7x-6=>7(3)-6=>15\n",
    "   \n",
    "\n",
    "</strong></div>\n",
    "\n",
    "<img src=\"https://i.pinimg.com/600x315/42/4f/6b/424f6be2585eeebb28e6596fe9ae8358.jpg\" alt=\"drawing\" width=\"450\" height=\"300\"/>    \n",
    "\n",
    "<div  style=\"color:blue;font-family:Candara,arial,helvetica;line-height:20px\"><strong>\n",
    "    \n",
    "### Example Of Variable\n",
    "\n",
    "#### Lets Say Experience of Officer should be 5 yrs plus the grade office he is (or grade value should be 5 less than years of experience)\n",
    "\n",
    "#### Experince=Grade+5\n",
    "#### y=x+5\n",
    "#### x->1,y->6 | x ->2,y->7 | x->3,y->8\n",
    "\n",
    "\n",
    "\n",
    "### Slope of A line -\n",
    "#### Change in (Coordinate of Y/Change in Coordinate of X) = (y2-y1)/(x2-x1)\n",
    "#### (7-6)/(2-1)\n",
    "#### This can also be represented when the equation is in the form y=mx+c where coeffecient m is the slope\n",
    "#### the constant c , here 5 is the y intercept the point where the line meets the x axis\n",
    "\n",
    "   \n",
    "\n",
    "</strong></div>\n",
    "\n",
    "\n",
    "<img src=\"https://mathbitsnotebook.com/Algebra1/LinearEquations/TchartgraphMM.jpg\" alt=\"drawing\" width=\"450\" height=\"300\"/>    \n",
    "\n"
   ]
  },
  {
   "cell_type": "markdown",
   "metadata": {},
   "source": [
    "# Exponents"
   ]
  },
  {
   "cell_type": "markdown",
   "metadata": {},
   "source": [
    "<div  style=\"color:blue;font-family:Candara,arial,helvetica;line-height:20px\"><strong>\n",
    "\n",
    "## Exponentiation is a mathematical operation, written as bⁿ, involving two numbers, the base b and the exponent or power n\n",
    "\n",
    "\n",
    "\n",
    "<img src=\"https://i.ytimg.com/vi/mCxl66WwEn0/hqdefault.jpg\" alt=\"drawing\" width=\"300\" height=\"300\"/> \n",
    "\n",
    "<img src=\"https://cdn.thinglink.me/api/image/845126328666554370/1240/10/scaletowidth\" alt=\"drawing\" width=\"600\" height=\"600\"/>    \n",
    "\n",
    "\n",
    "</strong></div>"
   ]
  },
  {
   "cell_type": "markdown",
   "metadata": {},
   "source": [
    "# Logarithm"
   ]
  },
  {
   "cell_type": "markdown",
   "metadata": {},
   "source": [
    "<div  style=\"color:blue;font-family:Candara,arial,helvetica;line-height:20px\"><strong>\n",
    "\n",
    "# In mathematics, the logarithm is the inverse function to exponentiation. That means the logarithm of a given number x is the exponent to which another fixed number, the base b, must be raised, to produce that number x.\n",
    "\n",
    "<img src=\"https://study.com/cimages/multimages/16/logs3_chartresized.png\" alt=\"drawing\" width=\"600\" height=\"600\"/>    \n",
    "\n",
    "</strong></div>"
   ]
  },
  {
   "cell_type": "markdown",
   "metadata": {},
   "source": [
    "# Polynomial"
   ]
  },
  {
   "cell_type": "markdown",
   "metadata": {},
   "source": [
    "<div  style=\"color:blue;font-family:Candara,arial,helvetica;line-height:20px\"><strong>\n",
    "    \n",
    "## In mathematics, a polynomial is an expression consisting of variables and coefficients, that involves only the operations of addition, subtraction, multiplication, and non-negative integer exponents of variables. An example of a polynomial of a single indeterminate, x, is x² − 4x + 7.\n",
    "\n",
    "\n",
    "<img src=\"https://www.mathsisfun.com/algebra/images/polynomial.svg\" alt=\"drawing\" width=\"600\" height=\"600\"/> \n",
    "\n",
    "\n",
    "### Addition\n",
    "<img src=\"https://www.mathwarehouse.com/algebra/polynomial/images/add-subtract/how-to-add-subtract-polynomial.png\" alt=\"drawing\" width=\"600\" height=\"600\"/> \n",
    "\n",
    "### Multiplication\n",
    "<img src=\"https://encrypted-tbn0.gstatic.com/images?q=tbn:ANd9GcShRCrPVGmRIHTOXE0w8C30nfPLW9w082_DfMj5QaK59YaBUa0gzw&s\" alt=\"drawing\" width=\"600\" height=\"600\"/>\n",
    "\n",
    "</strong></div>"
   ]
  },
  {
   "cell_type": "markdown",
   "metadata": {},
   "source": [
    "# Quadratic Equation"
   ]
  },
  {
   "cell_type": "markdown",
   "metadata": {},
   "source": [
    "<div  style=\"color:blue;font-family:Candara,arial,helvetica;line-height:20px\"><strong>\n",
    "\n",
    "The quadratic formula. The quadratic formula helps us solve any quadratic equation. First, we bring the equation to the form ax²+bx+c=0, where a, b, and c are coefficients. Then, we plug these coefficients in the formula.On a graph when plotted appear like a Parabola\n",
    "\n",
    "<img src=\"https://www.wikihow.com/images/thumb/1/17/Solve-Quadratic-Equations-Step-1-Version-3.jpg/aid173268-v4-728px-Solve-Quadratic-Equations-Step-1-Version-3.jpg.webp\" alt=\"drawing\" width=\"400\" height=\"400\"/> \n",
    "\n",
    "Depending on the sign before x^2 it will be a normal parabola for + sign else inverted parabola for - sign\n",
    "\n",
    "<img src=\"https://www.varsitytutors.com/assets/vt-hotmath-legacy/hotmath_help/topics/graphing-quadratic-equations-using-factoring/image1.gif\" alt=\"drawing\" width=\"400\" height=\"400\"/> \n",
    "\n",
    "</strong></div>"
   ]
  },
  {
   "cell_type": "markdown",
   "metadata": {},
   "source": [
    "# Functions"
   ]
  },
  {
   "cell_type": "markdown",
   "metadata": {},
   "source": [
    "<div  style=\"color:blue;font-family:Candara,arial,helvetica;line-height:20px\"><strong>\n",
    "\n",
    "## In mathematics, a function is a relation between sets that associates to every element of a first set exactly one element of the second set. Typical examples are functions from integers to integers or from the real numbers to real numbers\n",
    "\n",
    "<img src=\"https://i1.wp.com/ssddproblems.com/wp-content/uploads/2018/03/Slide29-1.png?fit=740%2C555&ssl=1\" alt=\"drawing\" width=\"400\" height=\"400\"/> \n",
    "\n",
    "\n",
    "</strong></div>"
   ]
  },
  {
   "cell_type": "code",
   "execution_count": null,
   "metadata": {},
   "outputs": [],
   "source": []
  }
 ],
 "metadata": {
  "kernelspec": {
   "display_name": "Python 3",
   "language": "python",
   "name": "python3"
  },
  "language_info": {
   "codemirror_mode": {
    "name": "ipython",
    "version": 3
   },
   "file_extension": ".py",
   "mimetype": "text/x-python",
   "name": "python",
   "nbconvert_exporter": "python",
   "pygments_lexer": "ipython3",
   "version": "3.7.3"
  },
  "varInspector": {
   "cols": {
    "lenName": 16,
    "lenType": 16,
    "lenVar": 40
   },
   "kernels_config": {
    "python": {
     "delete_cmd_postfix": "",
     "delete_cmd_prefix": "del ",
     "library": "var_list.py",
     "varRefreshCmd": "print(var_dic_list())"
    },
    "r": {
     "delete_cmd_postfix": ") ",
     "delete_cmd_prefix": "rm(",
     "library": "var_list.r",
     "varRefreshCmd": "cat(var_dic_list()) "
    }
   },
   "types_to_exclude": [
    "module",
    "function",
    "builtin_function_or_method",
    "instance",
    "_Feature"
   ],
   "window_display": false
  }
 },
 "nbformat": 4,
 "nbformat_minor": 2
}
