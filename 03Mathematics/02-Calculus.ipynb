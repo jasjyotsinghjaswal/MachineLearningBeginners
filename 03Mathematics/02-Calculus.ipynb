{
 "cells": [
  {
   "cell_type": "markdown",
   "metadata": {},
   "source": [
    "# Differentiation and Derivatives"
   ]
  },
  {
   "cell_type": "markdown",
   "metadata": {},
   "source": [
    "<div  style=\"color:blue;font-family:Candara,arial,helvetica;line-height:20px\"><strong>\n",
    "\n",
    "### Calculus, originally called infinitesimal calculus or \"the calculus of infinitesimals\", is the mathematical study of continuous small change, \n",
    "\n",
    "<img src=\"https://i.pinimg.com/originals/63/69/e5/6369e55dcc286a1db184de4d33e31209.png\" alt=\"drawing\" width=\"450\" height=\"200\"/>    \n",
    "\n",
    "<img src=\"https://www.dummies.com/wp-content/uploads/202450.image0.png\" alt=\"drawing\" width=\"400\" height=\"200\"/>    \n",
    "\n",
    "#### In case of linear equations the rate of change of Y wrt X is a constant\n",
    "\n",
    "#### x=0,y=3\n",
    "#### x=1,y=5\n",
    "#### x=4,y=11\n",
    "#### x=7,y=17\n",
    "\n",
    "#### For change in X by 3 units the change in Y is 6 Units (3X2)\n",
    "#### For change in X by 6 units the change in Y is 12 Units (6X2)\n",
    "\n",
    "However this does not hold true for a quadratic or polynomial equations which are represented by parabolas or multiple crests and troughs.In Such scenarios Derivatives help us to find optimal slope which will again be a function of X,which essentially means that the change in Y is dependent or is a Function of X\n",
    "\n",
    "<img src=\"https://mathbitsnotebook.com/Algebra1/LinearEquations/TchartgraphMM.jpg\" alt=\"drawing\" width=\"400\" height=\"300\"/> \n",
    "\n",
    "#### The equation for the below curve  is : y=x^3-2x^2-3x\n",
    "\n",
    "\n",
    "<img src=\"https://www.varsitytutors.com/assets/vt-hotmath-legacy/hotmath_help/topics/graphing-polynomial-functions/image003.gif\" alt=\"drawing\" width=\"400\" height=\"300\"/> \n",
    "\n",
    "\n",
    "\n",
    "### When we try to speak of the slope (or rate of change) for a quadratic function (a parabola), we have to speak of the average rate of change (the slope of the segment connecting two points on the parabola). The difference will be that this average rate of change (slope) will NOT be constant. It will change based upon the location of the two points being used.\n",
    "### DIfferential Calculus helps us evaluate the rate of change i.e. the slope where there is no linear relationship between x & y and when there is very little change in x or change in x is nearly 0.\n",
    "\n",
    "#### x=0,y=  0   ----> \n",
    "#### x=1,y= -4   ----> Rate of change -4\n",
    "#### x=2,y= -6   ----> Rate of change -2\n",
    "#### x=3,y= 0    ----> Rate of change 6\n",
    "\n",
    "#### dy/dx=3x^2-4x-3\n",
    "\n",
    "\n",
    "\n",
    "\n",
    "</strong></div>"
   ]
  },
  {
   "cell_type": "markdown",
   "metadata": {},
   "source": [
    "# Why is Slope used in ML and finding Local Maxima and Minima?"
   ]
  },
  {
   "cell_type": "markdown",
   "metadata": {},
   "source": [
    "<div  style=\"color:blue;font-family:Candara,arial,helvetica;line-height:20px\"><strong>\n",
    "\n",
    "### The point where change in slope is nearly 0 is point of minimum error or point of maximum optimisation.This is a fundamental concept in achieving highest accuracy\n",
    "\n",
    "<img src=\"https://srdas.github.io/DLBook/DL_images/TNN1.png\" alt=\"drawing\" width=\"400\" height=\"300\"/> \n",
    "\n",
    "<img src=\"https://wingshore.files.wordpress.com/2014/11/alpha13.png\" alt=\"drawing\" width=\"400\" height=\"300\"/> \n",
    "\n",
    "\n",
    "\n",
    "quadratic graph\n",
    "## Example: A ball is thrown in the air. Its height at any time t is given by:\n",
    "### h = 3 + 14t − 5t2\n",
    "\n",
    "### What is its maximum height?(Y -- Here H)\n",
    " \n",
    "\n",
    "### Using derivatives we can find the slope of that function:\n",
    "\n",
    "#### dh/dt = 0 + 14 − 5(2t)\n",
    "#### = 14 − 10t\n",
    "\n",
    "<img src=\"https://www.mathsisfun.com/calculus/images/quadratic-1b-slope.svg\" alt=\"drawing\" width=\"400\" height=\"300\"/> \n",
    "\n",
    "\n",
    " \n",
    "\n",
    "### Now find when the slope is zero:\n",
    "\n",
    "#### 14 − 10t = 0\n",
    "#### 10t = 14\n",
    "#### t = 14 / 10 = 1.4\n",
    "#### The slope is zero at t = 1.4 seconds\n",
    "\n",
    "### And the height at that time is:\n",
    "\n",
    "### h = 3 + 14×1.4 − 5×1.42\n",
    "### h = 3 + 19.6 − 9.8 = 12.8\n",
    "### And so:\n",
    "\n",
    "#### The maximum height is 12.8 m (at t = 1.4 s)\n",
    "\n",
    "### The local maxima is at t=1.4s\n",
    "</strong></div>"
   ]
  },
  {
   "cell_type": "markdown",
   "metadata": {},
   "source": [
    "# Local and Global Maxima/Minima"
   ]
  },
  {
   "cell_type": "markdown",
   "metadata": {},
   "source": [
    "<div  style=\"color:blue;font-family:Candara,arial,helvetica;line-height:20px\"><strong>\n",
    "\n",
    "## A maximum or minimum is said to be local if it is the largest or smallest value of the function, respectively, within a given range. However, a maximum or minimum is said to be global if it is the largest or smallest value of the function, respectively, on the entire domain of a function. The image shows it clearly\n",
    "\n",
    "\n",
    "<img src=\"https://i.stack.imgur.com/GPErf.gif\" alt=\"drawing\" width=\"400\" height=\"300\"/> \n",
    "\n",
    "\n",
    "<img src=\"https://qph.fs.quoracdn.net/main-qimg-d7d568041ac03fadb262db316cafd79b.webp\" alt=\"drawing\" width=\"400\" height=\"300\"/> \n",
    "\n",
    "### Steps:\n",
    "#### 1.Get the 1st order derivative\n",
    "#### 2.Get the 2nd order derivative\n",
    "#### 3.Identify points where slope is 0 (1st Order Derivative is 0)\n",
    "#### 4.Get Value of 2nd Derivative when slope is 0\n",
    "#### 5.If 2nd order derivative is >0 its a minima ,  derivative is <0 its a maxima .Global Maxima /Minima is the largest value in 2nd derivative \n",
    "\n",
    "### Consider below equation :x^4+3x^3-9x^2-23x-12\n",
    "\n",
    "<img src=\"https://www.shelovesmath.com/wp-content/uploads/2018/09/Polynomial-Example-300x201.png\" alt=\"drawing\" width=\"500\" height=\"450\"/> \n",
    "\n",
    "#### Step1: dy/dx=4x^3+9x^2-18x^1-23\n",
    "#### Step2: d2y/dx2=12x^2+18x^1-18\n",
    "#### Step3: dy/dx=0;x =>1.853,-3.103,-1 as you can see we have 2 minimas and 1 maxima , lets find global maxima and global minima\n",
    "#### Step4: When x=1.853 d2y/dx2=56.557308 ,   x=-3.103 d2y/dx2=41.689308  , x=-1 d2y/dx2=-24 \n",
    "\n",
    "### Hence Y is Maxima at x=-1 and Minima at 1.853 and -3.103 and Global Minima is at 1.852\n",
    "\n",
    "\n",
    "</strong></div>"
   ]
  },
  {
   "cell_type": "markdown",
   "metadata": {},
   "source": [
    "# Partial Derivatives"
   ]
  },
  {
   "cell_type": "markdown",
   "metadata": {},
   "source": [
    "<div  style=\"color:blue;font-family:Candara,arial,helvetica;line-height:20px\"><strong>\n",
    "\n",
    "## In most occasions we will need to use a multidimensional equation for predicting the final outcome,because the outcome of an event may be dependent on 2 or more variables.\n",
    "\n",
    "## In such cases we will need to use Partial Derivatives thus the graph will not be a parabola and it will neither be easy to visualise the same\n",
    "\n",
    "## In mathematics, a partial derivative of a function of several variables is its derivative with respect to one of those variables, with the others held constant. Partial derivatives are used in vector calculus and differential geometry\n",
    "\n",
    "### z = 2x^2 + 4xy\n",
    "### f’x = 4x + 4y\n",
    "\n",
    "### f’y = 0 + 4x = 4x\n",
    "\n",
    "</strong></div>"
   ]
  },
  {
   "cell_type": "markdown",
   "metadata": {},
   "source": [
    "# Integration and Area under curve"
   ]
  },
  {
   "cell_type": "markdown",
   "metadata": {},
   "source": [
    "<div  style=\"color:blue;font-family:Candara,arial,helvetica;line-height:20px\"><strong>\n",
    "\n",
    "## Differentiation calculates the slope of a curve, while integration calculates the area under the curve. - Integration is the reverse process of differentiation and vice versa\n",
    "\n",
    "\n",
    "<img src=\"https://d1whtlypfis84e.cloudfront.net/guides/wp-content/uploads/2018/04/04162258/graph-14-e1523007626334.png\" alt=\"drawing\" width=\"500\" height=\"450\"/> \n",
    "\n",
    "\n",
    "<img src=\"https://encrypted-tbn0.gstatic.com/images?q=tbn:ANd9GcRyKWI5DwnlfYoArZK-VmUEq08z06-XP35wA3cZ6M-gGaFcn2xWHA&s\" alt=\"drawing\" width=\"500\" height=\"450\"/> \n",
    "\n",
    "\n",
    "\n",
    "</strong></div>"
   ]
  },
  {
   "cell_type": "code",
   "execution_count": null,
   "metadata": {},
   "outputs": [],
   "source": []
  }
 ],
 "metadata": {
  "kernelspec": {
   "display_name": "Python 3",
   "language": "python",
   "name": "python3"
  },
  "language_info": {
   "codemirror_mode": {
    "name": "ipython",
    "version": 3
   },
   "file_extension": ".py",
   "mimetype": "text/x-python",
   "name": "python",
   "nbconvert_exporter": "python",
   "pygments_lexer": "ipython3",
   "version": "3.7.3"
  },
  "varInspector": {
   "cols": {
    "lenName": 16,
    "lenType": 16,
    "lenVar": 40
   },
   "kernels_config": {
    "python": {
     "delete_cmd_postfix": "",
     "delete_cmd_prefix": "del ",
     "library": "var_list.py",
     "varRefreshCmd": "print(var_dic_list())"
    },
    "r": {
     "delete_cmd_postfix": ") ",
     "delete_cmd_prefix": "rm(",
     "library": "var_list.r",
     "varRefreshCmd": "cat(var_dic_list()) "
    }
   },
   "types_to_exclude": [
    "module",
    "function",
    "builtin_function_or_method",
    "instance",
    "_Feature"
   ],
   "window_display": false
  }
 },
 "nbformat": 4,
 "nbformat_minor": 2
}
