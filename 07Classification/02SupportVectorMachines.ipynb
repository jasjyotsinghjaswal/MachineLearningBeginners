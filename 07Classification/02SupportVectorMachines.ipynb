{
 "cells": [
  {
   "cell_type": "markdown",
   "metadata": {},
   "source": [
    "# SVM"
   ]
  },
  {
   "cell_type": "markdown",
   "metadata": {},
   "source": [
    "<div  style=\"color:blue;font-family:Candara,arial,helvetica;line-height:20px\"><strong>\n",
    "    \n",
    "\n",
    "## SVM is a supervised machine learning algorithm which can be used for classification or regression problems. It uses a technique called the kernel trick to transform your data and then based on these transformations it finds an optimal boundary between the possible outputs.\n",
    "# Observations are separated by a hyperplane in space for classification purpose\n",
    "\n",
    "<img src=\"https://miro.medium.com/max/2836/1*ZpkLQf2FNfzfH4HXeMw4MQ.png\" alt=\"drawing\" width=\"600\" height=\"300\"/> \n",
    "    \n",
    "<img src=\"https://miro.medium.com/max/1280/1*H2QEWsP9-W4rBdIaxfVExg.jpeg\" alt=\"drawing\" width=\"600\" height=\"300\"/>     \n",
    "  \n",
    "# Vector in Polar and cartesian form    \n",
    "     \n",
    "<img src=\"https://keisan.casio.com/keisan/lib/real/system/2006/1223526375/PolarCartesian.gif\" alt=\"drawing\" width=\"600\" height=\"300\"/>      \n",
    "\n",
    "</strong></div>"
   ]
  },
  {
   "cell_type": "markdown",
   "metadata": {},
   "source": [
    "# Inner Product of Vectors"
   ]
  },
  {
   "cell_type": "markdown",
   "metadata": {},
   "source": [
    "<div  style=\"color:blue;font-family:Candara,arial,helvetica;line-height:20px\"><strong>\n",
    "\n",
    "### The scalar product and the vector product are the two ways of multiplying vectors which see the most application in physics and astronomy. The scalar product of two vectors can be constructed by taking the component of one vector in the direction of the other and multiplying it times the magnitude of the other vector. This can be expressed in the form:\n",
    "\n",
    "\n",
    "### If the vectors are expressed in terms of unit vectors i, j, and k along the x, y, and z directions, the scalar product can also be expressed in the form:\n",
    "\n",
    "\n",
    "### The scalar product is also called the \"inner product\" or the \"dot product\" in some mathematics texts.\n",
    "\n",
    "<img src=\"http://hyperphysics.phy-astr.gsu.edu/hbase/imgmec/vsc1a.png\" alt=\"drawing\" width=\"600\" height=\"300\"/>     \n",
    "    \n",
    "<img src=\"http://hyperphysics.phy-astr.gsu.edu/hbase/imgmec/vsca1b.png\" alt=\"drawing\" width=\"600\" height=\"300\"/>     \n",
    "    \n",
    "</strong></div>"
   ]
  },
  {
   "cell_type": "markdown",
   "metadata": {},
   "source": [
    "# Orthogonal Projection of Vector"
   ]
  },
  {
   "cell_type": "markdown",
   "metadata": {},
   "source": [
    "\n",
    "<div  style=\"color:blue;font-family:Candara,arial,helvetica;line-height:20px\"><strong>\n",
    "\n",
    "    \n",
    "<img src=\"https://miro.medium.com/max/1200/1*6mcff3dEDuTFT21IvlL1_Q.jpeg\" alt=\"drawing\" width=\"600\" height=\"300\"/>     \n",
    "    \n",
    "</strong></div>\n"
   ]
  },
  {
   "cell_type": "markdown",
   "metadata": {},
   "source": [
    "# Simple Implementation of SVM"
   ]
  },
  {
   "cell_type": "markdown",
   "metadata": {},
   "source": [
    "## Import Libraries,Normalise Data and Use Categorical Variables"
   ]
  },
  {
   "cell_type": "code",
   "execution_count": 5,
   "metadata": {},
   "outputs": [],
   "source": [
    "# Import Libraries\n",
    "import pandas as pd\n",
    "\n",
    "LoanData = pd.read_csv(\"01Exercise1.csv\")\n",
    "LoanPrep = LoanData.copy()\n",
    "\n",
    "\n",
    "#find out columns with missing values\n",
    "LoanPrep.isnull().sum(axis=0)\n",
    "\n",
    "\n",
    "# Replace Missing Values. Drop the rows.\n",
    "LoanPrep = LoanPrep.dropna()\n",
    "\n",
    "\n",
    "# Drop irrelevant columns based on business sense\n",
    "LoanPrep = LoanPrep.drop(['gender'], axis=1)\n",
    "\n",
    "# Create Dummy variables\n",
    "LoanPrep.dtypes\n",
    "LoanPrep = pd.get_dummies(LoanPrep, drop_first=True)\n",
    "\n",
    "\n",
    "\n",
    "# Normalize the data (Income and Loan Amount) Using StandardScaler\n",
    "from sklearn.preprocessing import StandardScaler\n",
    "scalar_ = StandardScaler()\n",
    "\n",
    "LoanPrep['income'] = scalar_.fit_transform(LoanPrep[['income']])\n",
    "LoanPrep['loanamt'] = scalar_.fit_transform(LoanPrep[['loanamt']])"
   ]
  },
  {
   "cell_type": "markdown",
   "metadata": {},
   "source": [
    "## Split Training and Test Data Use SVM for predicting Loan Approval Status"
   ]
  },
  {
   "cell_type": "code",
   "execution_count": 6,
   "metadata": {},
   "outputs": [
    {
     "name": "stderr",
     "output_type": "stream",
     "text": [
      "D:\\Programs\\Anaconda3\\lib\\site-packages\\sklearn\\utils\\validation.py:724: DataConversionWarning: A column-vector y was passed when a 1d array was expected. Please change the shape of y to (n_samples, ), for example using ravel().\n",
      "  y = column_or_1d(y, warn=True)\n",
      "D:\\Programs\\Anaconda3\\lib\\site-packages\\sklearn\\svm\\base.py:193: FutureWarning: The default value of gamma will change from 'auto' to 'scale' in version 0.22 to account better for unscaled features. Set gamma explicitly to 'auto' or 'scale' to avoid this warning.\n",
      "  \"avoid this warning.\", FutureWarning)\n"
     ]
    }
   ],
   "source": [
    "# Create the X (Independent) and Y (Dependent) dataframes\n",
    "# -------------------------------------------------------\n",
    "Y = LoanPrep[['status_Y']]\n",
    "X = LoanPrep.drop(['status_Y'], axis=1)\n",
    "\n",
    "\n",
    "# Split the X and Y dataset into training and testing set\n",
    "from sklearn.model_selection import train_test_split\n",
    "X_train, X_test, Y_train, Y_test = \\\n",
    "train_test_split(X, Y, test_size = 0.3, random_state = 1234, stratify=Y)\n",
    "\n",
    "\n",
    "# Import and build Support Vector Classifier\n",
    "from sklearn.svm import SVC\n",
    "svc = SVC()\n",
    "svc.fit(X_train, Y_train)\n",
    "\n",
    "\n",
    "# Predict the outcome using Test data\n",
    "Y_predict = svc.predict(X_test)\n",
    "\n",
    "# Build the conufsion matrix and get the accuracy/score\n",
    "from sklearn.metrics import confusion_matrix\n",
    "cm = confusion_matrix(Y_test, Y_predict)\n",
    "\n",
    "score = svc.score(X_test, Y_test)\n"
   ]
  },
  {
   "cell_type": "code",
   "execution_count": 7,
   "metadata": {},
   "outputs": [
    {
     "name": "stdout",
     "output_type": "stream",
     "text": [
      "0.8553459119496856\n"
     ]
    }
   ],
   "source": [
    "print(score)"
   ]
  },
  {
   "cell_type": "code",
   "execution_count": 10,
   "metadata": {},
   "outputs": [
    {
     "name": "stdout",
     "output_type": "stream",
     "text": [
      "[[ 27  22]\n",
      " [  1 109]]\n"
     ]
    }
   ],
   "source": [
    "print(cm)"
   ]
  },
  {
   "cell_type": "markdown",
   "metadata": {},
   "source": [
    "# SVM kernel function"
   ]
  },
  {
   "cell_type": "markdown",
   "metadata": {},
   "source": [
    "<div  style=\"color:blue;font-family:Candara,arial,helvetica;line-height:20px\"><strong>\n",
    "\n",
    "## Support Vector Machine (SVM) algorithms use a set of mathematical functions that are defined as the kernel. The function of kernel is to take data as input and transform it into the required form. Different SVM algorithms use different types of kernel functions.    \n",
    "    \n",
    "<img src=\"https://www.researchgate.net/profile/Jui-Sheng_Chou/publication/239386696/figure/tbl2/AS:667912230674445@1536254093339/SVM-Kernel-Function-Types.png\n",
    "\" alt=\"drawing\" width=\"600\" height=\"300\"/> \n",
    "\n",
    "\n",
    "</strong></div>"
   ]
  },
  {
   "cell_type": "markdown",
   "metadata": {},
   "source": [
    "# SVM Kernel function with example"
   ]
  },
  {
   "cell_type": "markdown",
   "metadata": {},
   "source": [
    "## Import Libraries and train and split data"
   ]
  },
  {
   "cell_type": "code",
   "execution_count": 20,
   "metadata": {},
   "outputs": [],
   "source": [
    "# import and load the Iris Dataset\n",
    "from sklearn import datasets\n",
    "iris = datasets.load_iris()\n",
    "X = iris.data\n",
    "Y = iris.target\n",
    "\n",
    "\n",
    "# split, train test....\n",
    "from sklearn.model_selection import train_test_split\n",
    "X_train, X_test, Y_train, Y_test = \\\n",
    "train_test_split(X, Y, test_size = 0.3, random_state = 1234, stratify=Y)\n",
    "\n",
    "# Train the SVC \n",
    "from sklearn.svm import SVC\n",
    "from sklearn.metrics import confusion_matrix"
   ]
  },
  {
   "cell_type": "markdown",
   "metadata": {},
   "source": [
    "## Using RBF"
   ]
  },
  {
   "cell_type": "code",
   "execution_count": 21,
   "metadata": {},
   "outputs": [
    {
     "name": "stdout",
     "output_type": "stream",
     "text": [
      "[[15  0  0]\n",
      " [ 0 14  1]\n",
      " [ 0  0 15]]\n",
      "0.9777777777777777\n",
      "[[14  0  1]\n",
      " [ 0 13  2]\n",
      " [ 0  0 15]]\n",
      "0.9333333333333333\n"
     ]
    }
   ],
   "source": [
    "# Gamma as 1.0\n",
    "svc = SVC(kernel='rbf', gamma=1.0)\n",
    "svc.fit(X_train, Y_train)\n",
    "Y_predict = svc.predict(X_test)\n",
    "\n",
    "cm_rbf01 = confusion_matrix(Y_test, Y_predict)\n",
    "\n",
    "print(cm_rbf01)\n",
    "print(svc.score(X_test, Y_test))\n",
    "\n",
    "# Gamma as 10\n",
    "svc = SVC(kernel='rbf', gamma=10)\n",
    "svc.fit(X_train, Y_train)\n",
    "Y_predict = svc.predict(X_test)\n",
    "\n",
    "cm_rbf10 = confusion_matrix(Y_test, Y_predict)\n",
    "\n",
    "print(cm_rbf10)\n",
    "print(svc.score(X_test, Y_test))"
   ]
  },
  {
   "cell_type": "markdown",
   "metadata": {},
   "source": [
    "## Linear Polynomial and Sigmoid Kernel"
   ]
  },
  {
   "cell_type": "code",
   "execution_count": 22,
   "metadata": {},
   "outputs": [
    {
     "name": "stdout",
     "output_type": "stream",
     "text": [
      "[[15  0  0]\n",
      " [ 0 13  2]\n",
      " [ 0  0 15]]\n",
      "0.9555555555555556\n",
      "[[15  0  0]\n",
      " [ 0 12  3]\n",
      " [ 0  0 15]]\n",
      "0.9333333333333333\n",
      "[[ 2  0 13]\n",
      " [12  0  3]\n",
      " [15  0  0]]\n",
      "0.044444444444444446\n"
     ]
    },
    {
     "name": "stderr",
     "output_type": "stream",
     "text": [
      "D:\\Programs\\Anaconda3\\lib\\site-packages\\sklearn\\svm\\base.py:193: FutureWarning: The default value of gamma will change from 'auto' to 'scale' in version 0.22 to account better for unscaled features. Set gamma explicitly to 'auto' or 'scale' to avoid this warning.\n",
      "  \"avoid this warning.\", FutureWarning)\n",
      "D:\\Programs\\Anaconda3\\lib\\site-packages\\sklearn\\svm\\base.py:193: FutureWarning: The default value of gamma will change from 'auto' to 'scale' in version 0.22 to account better for unscaled features. Set gamma explicitly to 'auto' or 'scale' to avoid this warning.\n",
      "  \"avoid this warning.\", FutureWarning)\n"
     ]
    }
   ],
   "source": [
    "# Linear Kernel\n",
    "svc = SVC(kernel='linear')\n",
    "svc.fit(X_train, Y_train)\n",
    "Y_predict = svc.predict(X_test)\n",
    "cm_linear = confusion_matrix(Y_test, Y_predict)\n",
    "\n",
    "print(cm_linear)\n",
    "print(svc.score(X_test, Y_test))\n",
    "\n",
    "# Polynomial Kernel\n",
    "svc = SVC(kernel='poly')\n",
    "svc.fit(X_train, Y_train)\n",
    "Y_predict = svc.predict(X_test)\n",
    "cm_poly = confusion_matrix(Y_test, Y_predict)\n",
    "\n",
    "print(cm_poly)\n",
    "print(svc.score(X_test, Y_test))\n",
    "\n",
    "# Sigmoid Kernel\n",
    "svc = SVC(kernel='sigmoid')\n",
    "svc.fit(X_train, Y_train)\n",
    "Y_predict = svc.predict(X_test)\n",
    "cm_sig = confusion_matrix(Y_test, Y_predict)\n",
    "\n",
    "print(cm_sig)\n",
    "print(svc.score(X_test, Y_test))"
   ]
  },
  {
   "cell_type": "code",
   "execution_count": null,
   "metadata": {},
   "outputs": [],
   "source": []
  }
 ],
 "metadata": {
  "kernelspec": {
   "display_name": "Python 3",
   "language": "python",
   "name": "python3"
  },
  "language_info": {
   "codemirror_mode": {
    "name": "ipython",
    "version": 3
   },
   "file_extension": ".py",
   "mimetype": "text/x-python",
   "name": "python",
   "nbconvert_exporter": "python",
   "pygments_lexer": "ipython3",
   "version": "3.7.5"
  },
  "varInspector": {
   "cols": {
    "lenName": 16,
    "lenType": 16,
    "lenVar": 40
   },
   "kernels_config": {
    "python": {
     "delete_cmd_postfix": "",
     "delete_cmd_prefix": "del ",
     "library": "var_list.py",
     "varRefreshCmd": "print(var_dic_list())"
    },
    "r": {
     "delete_cmd_postfix": ") ",
     "delete_cmd_prefix": "rm(",
     "library": "var_list.r",
     "varRefreshCmd": "cat(var_dic_list()) "
    }
   },
   "types_to_exclude": [
    "module",
    "function",
    "builtin_function_or_method",
    "instance",
    "_Feature"
   ],
   "window_display": false
  }
 },
 "nbformat": 4,
 "nbformat_minor": 2
}
