{
 "cells": [
  {
   "cell_type": "markdown",
   "metadata": {
    "slideshow": {
     "slide_type": "slide"
    }
   },
   "source": [
    "# What is Data Science?"
   ]
  },
  {
   "cell_type": "markdown",
   "metadata": {
    "slideshow": {
     "slide_type": "subslide"
    }
   },
   "source": [
    "<div style=\"font-family:Candara,arial,helvetica;line-height:20px\"><strong>\n",
    "Data science helps to gather important insights and knowledge from unstructured and structured Data by using Domain/Process/Business Knowledge coupled with applying Mathematics,Statistics and Machine Learning models using necessary programming skills.<br/>Depending on amount of data to be processed and computing power required the same can be carried out in standalone machines or in cluster leveraging Big Data Tools such as Spark in additon to using Cloud Technologies to scale up or down.\n",
    "</strong></div>\n",
    "<img src=\"https://dimensionless.in/wp-content/uploads/2019/06/venn-diagram.jpg\" alt=\"drawing\" width=\"400\" height=\"400\"/>"
   ]
  },
  {
   "cell_type": "markdown",
   "metadata": {
    "slideshow": {
     "slide_type": "slide"
    }
   },
   "source": [
    "# What is Machine Learning?"
   ]
  },
  {
   "cell_type": "markdown",
   "metadata": {
    "slideshow": {
     "slide_type": "subslide"
    }
   },
   "source": [
    "<div style=\"font-family:Candara,arial,helvetica;line-height:20px\"><strong>\n",
    "Machine learning gives computers the ability to learn without being explicitly programmed (Arthur Samuel, 1959).It is a subfield of computer science.Arthur Lee Samuel (December 5, 1901 – July 29, 1990) was an American pioneer in the field of computer gaming and artificial intelligence. He coined the term \"machine learning\" in 1959.\n",
    "<br/>\n",
    "</strong></div>\n"
   ]
  },
  {
   "cell_type": "markdown",
   "metadata": {
    "slideshow": {
     "slide_type": "subslide"
    }
   },
   "source": [
    "<div style=\"font-family:Candara,arial,helvetica;line-height:20px\"><strong>\n",
    "Let's say the you have a ten month old baby and you are trying hard to teach him what is an apple and what is an pear. Whenever you find an apple you show it to him and say \"apple\" (he says \"blah\"); whenever you find a pear you hold it in front of him and say \"pear\" . To develop the cognitive ability of our genius baby, we diligent parent continue to show him hundreds and thousands of apples and pears over time, and one day magic happen, our Machine baby says \"apple\" when he sees an apple.This is because the baby's brain will use datapoints like size,color and shape to determine the fruit it is \n",
    "He will continue to make mistakes  when a new apple does not look like traditional ones he has seen before but over the time he will make lesser mistakes After some time, the baby will know enough characters of apple to even recognize aged apples or apple slices. We say that he has been trained, or learned, so that now he can do stuff!\n",
    "</strong></div>\n",
    "<img src=\"https://www.nosimpler.me/wp-content/uploads/2016/08/ml-features-1.jpg\" alt=\"drawing\" width=\"400\" height=\"400\"/>"
   ]
  },
  {
   "cell_type": "markdown",
   "metadata": {
    "slideshow": {
     "slide_type": "slide"
    }
   },
   "source": [
    "# Traditional Vs Predictive Analytics"
   ]
  },
  {
   "cell_type": "markdown",
   "metadata": {
    "slideshow": {
     "slide_type": "subslide"
    }
   },
   "source": [
    "<div style=\"font-family:Candara,arial,helvetica;line-height:20px\"><strong>\n",
    "1.Traditional Analytics - use rule based methods on certain attributes in a dataset to decide an action or outcome heavily dependent on past data<br/>\n",
    "Ex:Using Fixed Amount Expenditure for an Individual to decide if a person will likely to avail a credit card\n",
    "However such analogies are incorrect and can likely go wrong\n",
    "2.Predictive Analytics - analyse multiple aspects/attributes of a dataset from historical events to determine possible outcome<br/>\n",
    "Ex:Using Location,Income,Demographics,Behavior of an individual to identify if an individual is likely to avail a credit card<br/>\n",
    "</strong></div>\n",
    "<img src=\"https://static-ssl.businessinsider.com/image/5b579fedc171cb40008b4614-1173/unnamed-1.png\" alt=\"drawing\" width=\"400\" height=\"400\"/>\n"
   ]
  },
  {
   "cell_type": "markdown",
   "metadata": {
    "slideshow": {
     "slide_type": "slide"
    }
   },
   "source": [
    "# Traditional Vs Modern DWH Architecture\n",
    "\n",
    "<img src=\"https://www.clearpeaks.com/wp-content/uploads/2018/06/Big-Data-1.jpg\" alt=\"drawing\" width=\"1000\" height=\"2000\"/>\n",
    "\n",
    "<img src=\"https://www.clearpeaks.com/wp-content/uploads/2018/06/Big-Data-2.jpg\" alt=\"drawing\" width=\"1000\" height=\"500\"/>\n"
   ]
  },
  {
   "cell_type": "markdown",
   "metadata": {
    "slideshow": {
     "slide_type": "slide"
    }
   },
   "source": [
    "# Examples Of Machine Learning"
   ]
  },
  {
   "cell_type": "markdown",
   "metadata": {
    "slideshow": {
     "slide_type": "subslide"
    }
   },
   "source": [
    "<img src=\"https://d1rwhvwstyk9gu.cloudfront.net/2019/09/Applications-of-Machine-Learning-1024x768-1.png\" alt=\"drawing\" width=\"600\" height=\"600\"/>"
   ]
  },
  {
   "cell_type": "markdown",
   "metadata": {
    "slideshow": {
     "slide_type": "slide"
    }
   },
   "source": [
    "# DIfferent Types of Analytics"
   ]
  },
  {
   "cell_type": "markdown",
   "metadata": {
    "slideshow": {
     "slide_type": "subslide"
    }
   },
   "source": [
    "<img src=\"https://www.riverlogic.com/wp-content/uploads/2018/11/Screen-Shot-2018-09-05-at-4.08.40-PM-1.jpg\" alt=\"drawing\" width=\"600\" height=\"600\"/>"
   ]
  },
  {
   "cell_type": "code",
   "execution_count": null,
   "metadata": {},
   "outputs": [],
   "source": []
  }
 ],
 "metadata": {
  "celltoolbar": "Slideshow",
  "kernelspec": {
   "display_name": "Python 3",
   "language": "python",
   "name": "python3"
  },
  "language_info": {
   "codemirror_mode": {
    "name": "ipython",
    "version": 3
   },
   "file_extension": ".py",
   "mimetype": "text/x-python",
   "name": "python",
   "nbconvert_exporter": "python",
   "pygments_lexer": "ipython3",
   "version": "3.7.3"
  }
 },
 "nbformat": 4,
 "nbformat_minor": 2
}
