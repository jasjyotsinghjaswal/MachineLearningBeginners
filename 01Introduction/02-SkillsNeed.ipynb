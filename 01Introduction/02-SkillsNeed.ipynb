{
 "cells": [
  {
   "cell_type": "markdown",
   "metadata": {
    "slideshow": {
     "slide_type": "slide"
    }
   },
   "source": [
    "# Skills Needed"
   ]
  },
  {
   "cell_type": "markdown",
   "metadata": {
    "slideshow": {
     "slide_type": "subslide"
    }
   },
   "source": [
    "<div style=\"font-family:Candara,arial,helvetica;line-height:40px\"><strong>\n",
    "1.Mathematics - Mathematics form the core behind machine Learning Algorithms and help us to better understand whats happening behind the scenes.<br/>\n",
    "</div>\n",
    "<img src=\"https://image.slidesharecdn.com/howdoesmathmatterindatascience-190111062332/95/how-does-math-matter-in-data-science-6-1024.jpg?cb=1547187944\" alt=\"drawing\" width=\"600\" height=\"600\"/>    \n"
   ]
  },
  {
   "cell_type": "markdown",
   "metadata": {
    "slideshow": {
     "slide_type": "subslide"
    }
   },
   "source": [
    "<div style=\"font-family:Candara,arial,helvetica;line-height:40px\"><strong>\n",
    "2.Statistics - help us impute missing data and establish correlation between attributes or factors driving final outcome of a result also help us chosing the right machine learning models.<br/>\n",
    "</strong></div>\n",
    "<img src=\"https://www.topcoder.com/wp-content/uploads/2019/05/image5.png\" alt=\"drawing\" width=\"600\" height=\"600\"/>       "
   ]
  },
  {
   "cell_type": "markdown",
   "metadata": {
    "slideshow": {
     "slide_type": "subslide"
    }
   },
   "source": [
    "<div style=\"font-family:Candara,arial,helvetica;line-height:40px\"><strong>\n",
    "3.Data Wrangling - involves enriching data from Files and Databases such as Using MDM or external tools to include attributes like ZIPCODE,COUNTRY etc.<br/>\n",
    "</strong></div>\n",
    "<img src=\"https://i.pinimg.com/736x/2a/39/02/2a390250ced51ae14222563687616ba5.jpg\" alt=\"drawing\" width=\"600\" height=\"600\"/>       \n",
    "    "
   ]
  },
  {
   "cell_type": "markdown",
   "metadata": {
    "slideshow": {
     "slide_type": "subslide"
    }
   },
   "source": [
    "<div style=\"font-family:Candara,arial,helvetica;line-height:40px\"><strong>\n",
    "4.Machine Learning - Applying the right algorithms to predict the right outcome<br/>\n",
    "</strong></div>\n",
    "<img src=\"https://s3.ap-south-1.amazonaws.com/techleer/207.jpg\" alt=\"drawing\" width=\"600\" height=\"600\"/>       \n",
    "    "
   ]
  },
  {
   "cell_type": "markdown",
   "metadata": {
    "slideshow": {
     "slide_type": "subslide"
    }
   },
   "source": [
    "<div style=\"font-family:Candara,arial,helvetica;line-height:40px\"><strong>\n",
    "5.Programming - Using Python Or R . Using Big Data Processing using Apache Spark and Using Cloud Processing capabilities in Azure and AWS.<br/>\n",
    "</strong></div>    \n",
    "<img src=\"https://process.filestackapi.com/cache=expiry:max/resize=width:1050/UqHwL1xbQZaD2tCqRVzQ\" alt=\"drawing\" width=\"600\" height=\"600\"/>       "
   ]
  },
  {
   "cell_type": "markdown",
   "metadata": {
    "slideshow": {
     "slide_type": "subslide"
    }
   },
   "source": [
    "<div size=\"4\" style=\"font-family:Candara,arial,helvetica;line-height:40px\"><strong>\n",
    "6.Visualisation - Visualsing Data Correlation as well as for presenting the results<br/>\n",
    "</strong></div>\n",
    "<img src=\"https://www.sas.com/en_nz/insights/big-data/data-visualization/_jcr_content/par/styledcontainer_15c7/par/styledcontainer_6939/par/textimage_4733/image.img.png/1570203125511.png\" alt=\"drawing\" width=\"600\" height=\"600\"/>       "
   ]
  },
  {
   "cell_type": "markdown",
   "metadata": {
    "slideshow": {
     "slide_type": "subslide"
    }
   },
   "source": [
    "<div size=\"4\" style=\"font-family:Candara,arial,helvetica;line-height:40px\"><strong>\n",
    "7.Domain Knowledge - Understanding the business Value of Dataset available , requirement gathering,identifying driving factors affecting result outcome.<br/>\n",
    "</strong></div>\n",
    " <img src=\"https://www.pmi.org.in/manageindia/auth/writereaddata/uploads/DOMAIN-KNOWLEDGE.JPG\" alt=\"drawing\" width=\"600\" height=\"600\"/>    "
   ]
  },
  {
   "cell_type": "code",
   "execution_count": null,
   "metadata": {},
   "outputs": [],
   "source": []
  }
 ],
 "metadata": {
  "celltoolbar": "Slideshow",
  "kernelspec": {
   "display_name": "Python 3",
   "language": "python",
   "name": "python3"
  },
  "language_info": {
   "codemirror_mode": {
    "name": "ipython",
    "version": 3
   },
   "file_extension": ".py",
   "mimetype": "text/x-python",
   "name": "python",
   "nbconvert_exporter": "python",
   "pygments_lexer": "ipython3",
   "version": "3.7.3"
  },
  "varInspector": {
   "cols": {
    "lenName": 16,
    "lenType": 16,
    "lenVar": 40
   },
   "kernels_config": {
    "python": {
     "delete_cmd_postfix": "",
     "delete_cmd_prefix": "del ",
     "library": "var_list.py",
     "varRefreshCmd": "print(var_dic_list())"
    },
    "r": {
     "delete_cmd_postfix": ") ",
     "delete_cmd_prefix": "rm(",
     "library": "var_list.r",
     "varRefreshCmd": "cat(var_dic_list()) "
    }
   },
   "types_to_exclude": [
    "module",
    "function",
    "builtin_function_or_method",
    "instance",
    "_Feature"
   ],
   "window_display": false
  }
 },
 "nbformat": 4,
 "nbformat_minor": 2
}
