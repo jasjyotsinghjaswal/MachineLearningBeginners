{
 "cells": [
  {
   "cell_type": "markdown",
   "metadata": {
    "slideshow": {
     "slide_type": "slide"
    }
   },
   "source": [
    "# Life Cycle of Machine Learning Project"
   ]
  },
  {
   "cell_type": "markdown",
   "metadata": {
    "slideshow": {
     "slide_type": "slide"
    }
   },
   "source": [
    "<div  style=\"font-family:Candara,arial,helvetica;line-height:20px\"><strong>\n",
    "1.Business case -> Constructing the Problem Statement. Ex:Recieving a lot of calls enquiring insurance details but campaigns not being converted to insurance sales.Then by holding key discussions with Business or Technofunctional people we need to ask the right questions influencing insurance sales along with identifying different sources of data such as DWH,File Systems from where you would want to extract data along with timelines and budget for the initiative.\n",
    "</strong></div>"
   ]
  },
  {
   "cell_type": "markdown",
   "metadata": {
    "slideshow": {
     "slide_type": "subslide"
    }
   },
   "source": [
    "<img src=\"https://image.slidesharecdn.com/problemsolving-150710202946-lva1-app6891/95/problem-statement-and-design-solution-3-1024.jpg?cb=1436595253\" alt=\"drawing\" width=\"600\" height=\"600\"/>    \n"
   ]
  },
  {
   "cell_type": "markdown",
   "metadata": {
    "slideshow": {
     "slide_type": "slide"
    }
   },
   "source": [
    "<div  style=\"font-family:Candara,arial,helvetica;line-height:20px\"><strong>\n",
    "2.Data Processing -> Involves Data preprocessing by extracting data from different sources,performing Data Qualitysuch as validating ZIP Codes or Country of a record , correcting or completely discarding such records,performing Transformations such as converting Format of Date or Changing Currency amount.Finally samplling of this source data is done which will be used further to create models or multiple samples of this source data can be used to create the model\n",
    "</strong></div>     "
   ]
  },
  {
   "cell_type": "markdown",
   "metadata": {
    "slideshow": {
     "slide_type": "subslide"
    }
   },
   "source": [
    "<img src=\"https://www.talend.com/wp-content/uploads/ProvideCleanReliableData-e1543538733383.png\" alt=\"drawing\" width=\"600\" height=\"600\"/>    \n"
   ]
  },
  {
   "cell_type": "markdown",
   "metadata": {
    "slideshow": {
     "slide_type": "slide"
    }
   },
   "source": [
    "<div  style=\"font-family:Candara,arial,helvetica;line-height:20px\"><strong>\n",
    "3.Model Planning -> Firstly exploratory data analytic is perfomed to determine the correlation amongst different attributes that can influence outcome of the result using linechart histogram etc.\n",
    "Secondly we need to finalize which algorithms is needed to be used\n",
    "(i)Predicting Categories- Yes or No Ex:Deciding If an email is spam or not we use 2 Class Classification.For more than 2 possible outcomes we use Multiclass Classification ex which product are you likely to buy on an ecommerce site\n",
    "<br/>    \n",
    "(ii)Predicting Continous Values - Such as amount of rainfall likely to be recieved at a future date and time or price of stock at a future date or time, we use regression\n",
    "<br/>    \n",
    "(iii)Unusual Data Patterns - such as unusual temperature readings or unusual Web Access Activity we use Anamoly Detection.\n",
    "<br/>    \n",
    "(iv)Identifying Data Groups - we use K Means Clustering to identify groups set of data points belong to.Clustering helps insurance providers improve their customer base and work on new insurance schemes or updating existing insurance schemes. It helps group people (according to different criteria’s such as willingness, purchasing power,preferred insurer age etc.) based on their similarity.\n",
    "<br/>\n",
    "</strong></div>\n"
   ]
  },
  {
   "cell_type": "markdown",
   "metadata": {
    "slideshow": {
     "slide_type": "subslide"
    }
   },
   "source": [
    "<img src=\"https://skillboxs3bucket.s3.us-east-2.amazonaws.com/users/work_photo-5ce28cc3504201558351043.png\" alt=\"drawing\" width=\"600\" height=\"600\"/>"
   ]
  },
  {
   "cell_type": "markdown",
   "metadata": {
    "slideshow": {
     "slide_type": "slide"
    }
   },
   "source": [
    "<div  style=\"font-family:Candara,arial,helvetica;line-height:20px\"><strong>\n",
    "4.Model Traninig - The model selected above is trained using a sample Dataset and reverify the results with different samples.We then fine tune our model parameters to make it as perfect as possible and select the right model for our problem statement\n",
    "</strong></div>"
   ]
  },
  {
   "cell_type": "markdown",
   "metadata": {
    "slideshow": {
     "slide_type": "subslide"
    }
   },
   "source": [
    " <img src=\"https://3.bp.blogspot.com/-occLtedKtRw/W8RVv5QyIlI/AAAAAAAAEBg/fdvwBPGxdfQ1izWa_l95-SW4kgYSMgAsgCLcBGAs/s640/machine-learning-training-scoring.PNG\" alt=\"drawing\" width=\"600\" height=\"600\"/> \n"
   ]
  },
  {
   "cell_type": "markdown",
   "metadata": {
    "slideshow": {
     "slide_type": "slide"
    }
   },
   "source": [
    "<div  style=\"font-family:Candara,arial,helvetica;line-height:20px\"><strong>\n",
    "5.Deployment - Deploy your ML model within an existing Warehouse process or provision a new Warehouse process with your Model as the heart of your warehouse engine producing results consumable in many forms to drive decisions\n",
    "</strong></div>"
   ]
  },
  {
   "cell_type": "markdown",
   "metadata": {
    "slideshow": {
     "slide_type": "subslide"
    }
   },
   "source": [
    " <img src=\"https://image.slidesharecdn.com/wikujib2qoecc5r7vb7f-signature-87404360c94bb2c35661cdc792a68a5997906369b9fee3d51c5556b0e68e8418-poli-150724043821-lva1-app6891/95/production-and-beyond-deploying-and-managing-machine-learning-models-3-1024.jpg?cb=1442685173\" alt=\"drawing\" width=\"600\" height=\"600\"/> \n"
   ]
  },
  {
   "cell_type": "code",
   "execution_count": null,
   "metadata": {},
   "outputs": [],
   "source": []
  }
 ],
 "metadata": {
  "kernelspec": {
   "display_name": "Python 3",
   "language": "python",
   "name": "python3"
  },
  "language_info": {
   "codemirror_mode": {
    "name": "ipython",
    "version": 3
   },
   "file_extension": ".py",
   "mimetype": "text/x-python",
   "name": "python",
   "nbconvert_exporter": "python",
   "pygments_lexer": "ipython3",
   "version": "3.7.3"
  },
  "varInspector": {
   "cols": {
    "lenName": 16,
    "lenType": 16,
    "lenVar": 40
   },
   "kernels_config": {
    "python": {
     "delete_cmd_postfix": "",
     "delete_cmd_prefix": "del ",
     "library": "var_list.py",
     "varRefreshCmd": "print(var_dic_list())"
    },
    "r": {
     "delete_cmd_postfix": ") ",
     "delete_cmd_prefix": "rm(",
     "library": "var_list.r",
     "varRefreshCmd": "cat(var_dic_list()) "
    }
   },
   "types_to_exclude": [
    "module",
    "function",
    "builtin_function_or_method",
    "instance",
    "_Feature"
   ],
   "window_display": false
  }
 },
 "nbformat": 4,
 "nbformat_minor": 2
}
