{
 "cells": [
  {
   "cell_type": "markdown",
   "metadata": {},
   "source": [
    "# Steps for Univariate feauture selection"
   ]
  },
  {
   "cell_type": "markdown",
   "metadata": {},
   "source": [
    "<div  style=\"color:blue;font-family:Candara,arial,helvetica;line-height:20px\"><strong>\n",
    "\n",
    "## Step1. Get all independent Feautures\n",
    "## Step2. Apply relevant statistical method\n",
    "## Step3. Get P Value and compare with significance level\n",
    "## Step4. Select feauture if P<A\n",
    "\n",
    "</strong></div>    "
   ]
  },
  {
   "cell_type": "markdown",
   "metadata": {},
   "source": [
    "# F-Test"
   ]
  },
  {
   "cell_type": "markdown",
   "metadata": {},
   "source": [
    "<div  style=\"color:blue;font-family:Candara,arial,helvetica;line-height:20px\"><strong>\n",
    "\n",
    "## An F-test is any statistical test in which the test statistic has an F-distribution under the null hypothesis. It is most often used when comparing statistical models that have been fitted to a data set, in order to identify the model that best fits the population from which the data were sampled.\n",
    "\n",
    "<img src=\"https://slideplayer.com/slide/781157/3/images/18/F-tests+The+test+for+joint+significance+has+its+own+formula%2C+which+takes+the+following+form%3A.jpg\n",
    "\" alt=\"drawing\" width=\"600\" height=\"300\"/>  \n",
    "\n",
    "</strong></div> "
   ]
  },
  {
   "cell_type": "markdown",
   "metadata": {},
   "source": [
    "## Linear Regression Without taking F Test into consideration"
   ]
  },
  {
   "cell_type": "code",
   "execution_count": 1,
   "metadata": {},
   "outputs": [
    {
     "name": "stdout",
     "output_type": "stream",
     "text": [
      "0.842748598241573\n",
      "6.982206715357427\n"
     ]
    }
   ],
   "source": [
    "# Import libraries\n",
    "import pandas as pd\n",
    "\n",
    "# Read the file\n",
    "f = pd.read_csv('Students2.csv')\n",
    "\n",
    "# Split the columns into Dependent (Y) and independent (X) features\n",
    "x = f.iloc[:,:-1]\n",
    "y = f.iloc[:, -1]\n",
    "\n",
    "# Perform Linear Regression using original dataset\n",
    "from sklearn.linear_model import LinearRegression\n",
    "\n",
    "lr = LinearRegression()\n",
    "\n",
    "# Split the data\n",
    "from sklearn.model_selection import train_test_split\n",
    "X_train, X_test, Y_train, Y_test = \\\n",
    "train_test_split(x, y, test_size = 0.4, random_state = 1234)\n",
    "\n",
    "lr.fit(X_train, Y_train)\n",
    "\n",
    "y_predict = lr.predict(X_test)\n",
    "\n",
    "# Calculate the RMSE error for the regression\n",
    "from sklearn.metrics import mean_squared_error\n",
    "import math\n",
    "\n",
    "org_score = lr.score(X_test, Y_test)\n",
    "org_rmse = math.sqrt(mean_squared_error(Y_test, y_predict))\n",
    "\n",
    "print(org_score)\n",
    "print(org_rmse)"
   ]
  },
  {
   "cell_type": "markdown",
   "metadata": {},
   "source": [
    "## Perform F-Test"
   ]
  },
  {
   "cell_type": "code",
   "execution_count": 2,
   "metadata": {},
   "outputs": [
    {
     "name": "stdout",
     "output_type": "stream",
     "text": [
      " \n",
      " \n",
      " \n",
      "    Features      F-Score     P-Values\n",
      "    -----------  ---------    ---------\n",
      "     Hours          141.91      0.000000\n",
      "     sHours           4.57      0.041403\n",
      "     hoursplayed      0.00      0.969907\n",
      "     income           0.16      0.692200\n",
      "     distance         0.00      0.955528\n",
      "     calories         0.40      0.530086\n"
     ]
    }
   ],
   "source": [
    "# import and perform the f_regression to get the F-Score and P-Values\n",
    "from sklearn.feature_selection import f_regression as fr\n",
    "result = fr(x,y)\n",
    "\n",
    "\n",
    "# Split the result tuple into F_Score and P_Values\n",
    "f_score = result[0]\n",
    "p_values = result[1]\n",
    "\n",
    "\n",
    "# Print the table of Features, F-Score and P-values\n",
    "columns = list(x.columns)\n",
    "\n",
    "print (\" \")\n",
    "print (\" \")\n",
    "print (\" \")\n",
    "\n",
    "print (\"    Features     \", \"F-Score    \", \"P-Values\")\n",
    "print (\"    -----------  ---------    ---------\")\n",
    "\n",
    "for i in range(0, len(columns)):\n",
    "    f1 = \"%4.2f\" % f_score[i]\n",
    "    p1 = \"%2.6f\" % p_values[i]\n",
    "    print(\"    \", columns[i].ljust(12), f1.rjust(8),\"    \", p1.rjust(8))"
   ]
  },
  {
   "cell_type": "markdown",
   "metadata": {},
   "source": [
    "## Performlinear regression with reduced feautures"
   ]
  },
  {
   "cell_type": "code",
   "execution_count": 3,
   "metadata": {},
   "outputs": [
    {
     "name": "stdout",
     "output_type": "stream",
     "text": [
      "0.9161939417709495\n",
      "5.09721728108113\n"
     ]
    }
   ],
   "source": [
    "# Perform the Linear Regression with reduced features\n",
    "X_train_n = X_train[['Hours', 'sHours']]\n",
    "X_test_n = X_test[['Hours', 'sHours']]\n",
    "\n",
    "lr1 = LinearRegression()\n",
    "lr1.fit(X_train_n, Y_train)\n",
    "\n",
    "y_predict_n = lr1.predict(X_test_n)\n",
    "\n",
    "# Calculate the RMSE with reduced features\n",
    "new_score = lr1.score(X_test_n, Y_test)\n",
    "new_rmse = math.sqrt(mean_squared_error(Y_test, y_predict_n))\n",
    "\n",
    "print(new_score)\n",
    "print(new_rmse)"
   ]
  },
  {
   "cell_type": "markdown",
   "metadata": {},
   "source": [
    "# Univariate Feauture Selection"
   ]
  },
  {
   "cell_type": "markdown",
   "metadata": {},
   "source": [
    "## Import Library and Split into test train"
   ]
  },
  {
   "cell_type": "code",
   "execution_count": 4,
   "metadata": {},
   "outputs": [],
   "source": [
    "# ----------------------------------------------------------------\n",
    "# Implement various feature selection, Select Transforms\n",
    "# ----------------------------------------------------------------\n",
    "\n",
    "# Import pandas, read the file and split into X and Y\n",
    "import pandas as pd\n",
    "f = pd.read_csv('Students2.csv')\n",
    "X = f.iloc[:, :-1]\n",
    "Y = f.iloc[:,  -1]\n",
    "\n",
    "# Import various select transforms along with the f_regression mode\n",
    "from sklearn.feature_selection import SelectKBest,             \\\n",
    "                                      SelectPercentile,        \\\n",
    "                                      GenericUnivariateSelect, \\\n",
    "                                      f_regression"
   ]
  },
  {
   "cell_type": "markdown",
   "metadata": {},
   "source": [
    "## KBest and print columns"
   ]
  },
  {
   "cell_type": "code",
   "execution_count": 5,
   "metadata": {},
   "outputs": [
    {
     "name": "stdout",
     "output_type": "stream",
     "text": [
      " \n",
      " \n",
      " \n",
      "    Features      F-Score     P-Values\n",
      "    -----------  ---------    ---------\n",
      "     Hours          141.91      0.000000\n",
      "     sHours           4.57      0.041403\n",
      "     hoursplayed      0.00      0.969907\n",
      "     income           0.16      0.692200\n",
      "     distance         0.00      0.955528\n",
      "     calories         0.40      0.530086\n",
      "['Hours', 'sHours', 'calories']\n"
     ]
    },
    {
     "data": {
      "text/plain": [
       "array([[   0,    6, 2491],\n",
       "       [   1,    7, 2303],\n",
       "       [   1,    6, 2475],\n",
       "       [   1,    8, 2282],\n",
       "       [   1,    8, 2359],\n",
       "       [   2,    8, 2354],\n",
       "       [   2,    6, 2943],\n",
       "       [   3,    6, 2119],\n",
       "       [   3,    7, 2511],\n",
       "       [   3,    7, 2666],\n",
       "       [   3,    8, 2934],\n",
       "       [   4,    8, 2838],\n",
       "       [   4,    7, 2102],\n",
       "       [   4,    7, 2560],\n",
       "       [   5,    8, 2068],\n",
       "       [   5,    6, 2541],\n",
       "       [   6,    6, 2690],\n",
       "       [   6,    7, 2956],\n",
       "       [   7,    8, 2239],\n",
       "       [   7,    8, 2703],\n",
       "       [   7,    6, 2603],\n",
       "       [   7,    6, 2031],\n",
       "       [   8,    7, 2885],\n",
       "       [   8,    8, 2153],\n",
       "       [   9,    8, 2384],\n",
       "       [   9,    5, 2882],\n",
       "       [   9,    8, 2271],\n",
       "       [  10,    8, 2264],\n",
       "       [  10,    8, 2522],\n",
       "       [  11,    7, 2279]], dtype=int64)"
      ]
     },
     "metadata": {},
     "output_type": "display_data"
    }
   ],
   "source": [
    "# Implement and print SelectKBest\n",
    "selectorK = SelectKBest(score_func=f_regression, k=3)\n",
    "x_k = selectorK.fit_transform(X, Y)\n",
    "\n",
    "# Get f_score and p_values for the selected features\n",
    "f_score = selectorK.scores_\n",
    "p_values = selectorK.pvalues_\n",
    "\n",
    "# Print the f_score and p_values\n",
    "# Print the table of Features, F-Score and P-values\n",
    "columns = list(X.columns)\n",
    "\n",
    "print (\" \")\n",
    "print (\" \")\n",
    "print (\" \")\n",
    "\n",
    "print (\"    Features     \", \"F-Score    \", \"P-Values\")\n",
    "print (\"    -----------  ---------    ---------\")\n",
    "\n",
    "for i in range(0, len(columns)):\n",
    "    f1 = \"%4.2f\" % f_score[i]\n",
    "    p1 = \"%2.6f\" % p_values[i]\n",
    "    print(\"    \", columns[i].ljust(12), f1.rjust(8),\"    \", p1.rjust(8))\n",
    "\n",
    "cols = selectorK.get_support(indices=True)\n",
    "selectedCols = X.columns[cols].to_list()\n",
    "\n",
    "print(selectedCols)\n",
    "display(x_k)"
   ]
  },
  {
   "cell_type": "markdown",
   "metadata": {},
   "source": [
    "## # Implement SelectPercentile"
   ]
  },
  {
   "cell_type": "code",
   "execution_count": 6,
   "metadata": {},
   "outputs": [
    {
     "data": {
      "text/plain": [
       "array([[   0,    6, 2491],\n",
       "       [   1,    7, 2303],\n",
       "       [   1,    6, 2475],\n",
       "       [   1,    8, 2282],\n",
       "       [   1,    8, 2359],\n",
       "       [   2,    8, 2354],\n",
       "       [   2,    6, 2943],\n",
       "       [   3,    6, 2119],\n",
       "       [   3,    7, 2511],\n",
       "       [   3,    7, 2666],\n",
       "       [   3,    8, 2934],\n",
       "       [   4,    8, 2838],\n",
       "       [   4,    7, 2102],\n",
       "       [   4,    7, 2560],\n",
       "       [   5,    8, 2068],\n",
       "       [   5,    6, 2541],\n",
       "       [   6,    6, 2690],\n",
       "       [   6,    7, 2956],\n",
       "       [   7,    8, 2239],\n",
       "       [   7,    8, 2703],\n",
       "       [   7,    6, 2603],\n",
       "       [   7,    6, 2031],\n",
       "       [   8,    7, 2885],\n",
       "       [   8,    8, 2153],\n",
       "       [   9,    8, 2384],\n",
       "       [   9,    5, 2882],\n",
       "       [   9,    8, 2271],\n",
       "       [  10,    8, 2264],\n",
       "       [  10,    8, 2522],\n",
       "       [  11,    7, 2279]], dtype=int64)"
      ]
     },
     "metadata": {},
     "output_type": "display_data"
    }
   ],
   "source": [
    "# Implement SelectPercentile\n",
    "selectorP = SelectPercentile(score_func=f_regression, percentile=50)\n",
    "x_p = selectorP.fit_transform(X, Y)\n",
    "display(x_p)"
   ]
  },
  {
   "cell_type": "markdown",
   "metadata": {},
   "source": [
    "## Implement GenericUnivariateSelect with k_best"
   ]
  },
  {
   "cell_type": "code",
   "execution_count": 7,
   "metadata": {},
   "outputs": [
    {
     "data": {
      "text/plain": [
       "array([[   0,    6, 2491],\n",
       "       [   1,    7, 2303],\n",
       "       [   1,    6, 2475],\n",
       "       [   1,    8, 2282],\n",
       "       [   1,    8, 2359],\n",
       "       [   2,    8, 2354],\n",
       "       [   2,    6, 2943],\n",
       "       [   3,    6, 2119],\n",
       "       [   3,    7, 2511],\n",
       "       [   3,    7, 2666],\n",
       "       [   3,    8, 2934],\n",
       "       [   4,    8, 2838],\n",
       "       [   4,    7, 2102],\n",
       "       [   4,    7, 2560],\n",
       "       [   5,    8, 2068],\n",
       "       [   5,    6, 2541],\n",
       "       [   6,    6, 2690],\n",
       "       [   6,    7, 2956],\n",
       "       [   7,    8, 2239],\n",
       "       [   7,    8, 2703],\n",
       "       [   7,    6, 2603],\n",
       "       [   7,    6, 2031],\n",
       "       [   8,    7, 2885],\n",
       "       [   8,    8, 2153],\n",
       "       [   9,    8, 2384],\n",
       "       [   9,    5, 2882],\n",
       "       [   9,    8, 2271],\n",
       "       [  10,    8, 2264],\n",
       "       [  10,    8, 2522],\n",
       "       [  11,    7, 2279]], dtype=int64)"
      ]
     },
     "metadata": {},
     "output_type": "display_data"
    }
   ],
   "source": [
    "selectorG1 = GenericUnivariateSelect(score_func=f_regression,\n",
    "                                     mode='k_best',\n",
    "                                     param=3)\n",
    "x_g1 = selectorG1.fit_transform(X,Y)\n",
    "display(x_g1)"
   ]
  },
  {
   "cell_type": "code",
   "execution_count": 8,
   "metadata": {},
   "outputs": [],
   "source": [
    "# Implement GenericUnivariateSelect with percentile"
   ]
  },
  {
   "cell_type": "code",
   "execution_count": 9,
   "metadata": {},
   "outputs": [
    {
     "data": {
      "text/plain": [
       "array([[   0,    6, 2491],\n",
       "       [   1,    7, 2303],\n",
       "       [   1,    6, 2475],\n",
       "       [   1,    8, 2282],\n",
       "       [   1,    8, 2359],\n",
       "       [   2,    8, 2354],\n",
       "       [   2,    6, 2943],\n",
       "       [   3,    6, 2119],\n",
       "       [   3,    7, 2511],\n",
       "       [   3,    7, 2666],\n",
       "       [   3,    8, 2934],\n",
       "       [   4,    8, 2838],\n",
       "       [   4,    7, 2102],\n",
       "       [   4,    7, 2560],\n",
       "       [   5,    8, 2068],\n",
       "       [   5,    6, 2541],\n",
       "       [   6,    6, 2690],\n",
       "       [   6,    7, 2956],\n",
       "       [   7,    8, 2239],\n",
       "       [   7,    8, 2703],\n",
       "       [   7,    6, 2603],\n",
       "       [   7,    6, 2031],\n",
       "       [   8,    7, 2885],\n",
       "       [   8,    8, 2153],\n",
       "       [   9,    8, 2384],\n",
       "       [   9,    5, 2882],\n",
       "       [   9,    8, 2271],\n",
       "       [  10,    8, 2264],\n",
       "       [  10,    8, 2522],\n",
       "       [  11,    7, 2279]], dtype=int64)"
      ]
     },
     "metadata": {},
     "output_type": "display_data"
    }
   ],
   "source": [
    "# Implement GenericUnivariateSelect with percentile\n",
    "selectorG2 = GenericUnivariateSelect(score_func=f_regression,\n",
    "                                     mode='percentile',\n",
    "                                     param=50)\n",
    "x_g2 = selectorG2.fit_transform(X,Y)\n",
    "display(x_g2)"
   ]
  },
  {
   "cell_type": "code",
   "execution_count": null,
   "metadata": {},
   "outputs": [],
   "source": []
  }
 ],
 "metadata": {
  "kernelspec": {
   "display_name": "Python 3",
   "language": "python",
   "name": "python3"
  },
  "language_info": {
   "codemirror_mode": {
    "name": "ipython",
    "version": 3
   },
   "file_extension": ".py",
   "mimetype": "text/x-python",
   "name": "python",
   "nbconvert_exporter": "python",
   "pygments_lexer": "ipython3",
   "version": "3.7.5"
  },
  "varInspector": {
   "cols": {
    "lenName": 16,
    "lenType": 16,
    "lenVar": 40
   },
   "kernels_config": {
    "python": {
     "delete_cmd_postfix": "",
     "delete_cmd_prefix": "del ",
     "library": "var_list.py",
     "varRefreshCmd": "print(var_dic_list())"
    },
    "r": {
     "delete_cmd_postfix": ") ",
     "delete_cmd_prefix": "rm(",
     "library": "var_list.r",
     "varRefreshCmd": "cat(var_dic_list()) "
    }
   },
   "types_to_exclude": [
    "module",
    "function",
    "builtin_function_or_method",
    "instance",
    "_Feature"
   ],
   "window_display": false
  }
 },
 "nbformat": 4,
 "nbformat_minor": 2
}
