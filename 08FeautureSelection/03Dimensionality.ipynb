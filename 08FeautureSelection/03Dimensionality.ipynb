{
 "cells": [
  {
   "cell_type": "markdown",
   "metadata": {},
   "source": [
    "# What is PCA?"
   ]
  },
  {
   "cell_type": "markdown",
   "metadata": {},
   "source": [
    "<div  style=\"color:blue;font-family:Candara,arial,helvetica;line-height:20px\"><strong>\n",
    "\n",
    "## Principal component analysis is a statistical procedure that uses an orthogonal transformation to convert a set of observations of possibly correlated variables into a set of values of linearly uncorrelated variables called principal components\n",
    "<img src=\"https://image.slidesharecdn.com/81ac93fsyq9qa8sdsvoq-signature-7f7e9932c1ac6134e9030bbdd4cfa1c5606f58d572ef5d7da58609957cc1fc67-poli-160617131027/95/neural-networks-principal-component-analysis-pca-8-638.jpg?cb=1467151737\" alt=\"drawing\" width=\"600\" height=\"300\"/>  \n",
    "    \n",
    "### Step 1 Centre the data\n",
    "### Step 2 Create Variance/Covariance matrix\n",
    "### Step 3 Project vector doing matrix transformation\n",
    "### Step 4 Construct Eignevector and Eigenvalues and chose the 1 with higher Eigen value as Principal component  \n",
    "\n",
    "</strong></div> "
   ]
  },
  {
   "cell_type": "markdown",
   "metadata": {},
   "source": [
    "# Model Implementation without PCA"
   ]
  },
  {
   "cell_type": "code",
   "execution_count": 2,
   "metadata": {},
   "outputs": [
    {
     "name": "stdout",
     "output_type": "stream",
     "text": [
      "[[ 61   3]\n",
      " [  4 103]]\n",
      "0.9590643274853801\n"
     ]
    },
    {
     "name": "stderr",
     "output_type": "stream",
     "text": [
      "D:\\Programs\\Anaconda3\\lib\\site-packages\\sklearn\\ensemble\\forest.py:245: FutureWarning: The default value of n_estimators will change from 10 in version 0.20 to 100 in 0.22.\n",
      "  \"10 in version 0.20 to 100 in 0.22.\", FutureWarning)\n",
      "D:\\Programs\\Anaconda3\\lib\\site-packages\\ipykernel_launcher.py:29: DataConversionWarning: A column-vector y was passed when a 1d array was expected. Please change the shape of y to (n_samples,), for example using ravel().\n"
     ]
    }
   ],
   "source": [
    "# ----------------------------------------------------------------------\n",
    "# Implement Principal Component Analysis (PCA) for the Breast Cancer \n",
    "# prediction and compare results\n",
    "# ----------------------------------------------------------------------\n",
    "\n",
    "# Import libraries, load the dataset and create X and Y\n",
    "from sklearn.datasets import load_breast_cancer\n",
    "import pandas as pd\n",
    "\n",
    "lbc = load_breast_cancer()\n",
    "\n",
    "X = pd.DataFrame(lbc['data'], columns=lbc['feature_names'])\n",
    "Y = pd.DataFrame(lbc['target'], columns=['type'])\n",
    "\n",
    "# --------------------------------------\n",
    "# Perform the prediction Without PCA\n",
    "# --------------------------------------\n",
    "\n",
    "# Split the dataset into train and test\n",
    "from sklearn.model_selection import train_test_split\n",
    "X_train, X_test, Y_train, Y_test = \\\n",
    "train_test_split(X, Y, test_size = 0.3, random_state = 1234, stratify=Y)\n",
    "\n",
    "# Import Randon Forest Classifier\n",
    "from sklearn.ensemble import RandomForestClassifier \n",
    "\n",
    "# Default Random Forest Object\n",
    "rfc1 = RandomForestClassifier(random_state=1234)\n",
    "rfc1.fit(X_train, Y_train)\n",
    "Y_predict1 = rfc1.predict(X_test)\n",
    "\n",
    "# Score and Evaluate the model \n",
    "from sklearn.metrics import confusion_matrix\n",
    "cm1 = confusion_matrix(Y_test, Y_predict1)\n",
    "score1 = rfc1.score(X_test, Y_test)\n",
    "\n",
    "\n",
    "print(cm1)\n",
    "print(score1)"
   ]
  },
  {
   "cell_type": "markdown",
   "metadata": {},
   "source": [
    "# Convert the dimensions to PCA"
   ]
  },
  {
   "cell_type": "code",
   "execution_count": 3,
   "metadata": {},
   "outputs": [],
   "source": [
    "# Normalize the data with mean as zero\n",
    "from sklearn.preprocessing import StandardScaler\n",
    "scalar = StandardScaler()\n",
    "X_scaled = scalar.fit_transform(X)\n",
    "\n",
    "# Check the mean of the centered data\n",
    "X_scaled[:,0].mean()\n",
    "\n",
    "# Import PCA and fit the data to create PCAs\n",
    "from sklearn.decomposition import PCA\n",
    "pca = PCA(n_components=5)\n",
    "X_pca = pca.fit_transform(X_scaled)"
   ]
  },
  {
   "cell_type": "code",
   "execution_count": 6,
   "metadata": {},
   "outputs": [
    {
     "data": {
      "text/plain": [
       "array([[ 1.09706398, -2.07333501,  1.26993369, ...,  2.29607613,\n",
       "         2.75062224,  1.93701461],\n",
       "       [ 1.82982061, -0.35363241,  1.68595471, ...,  1.0870843 ,\n",
       "        -0.24388967,  0.28118999],\n",
       "       [ 1.57988811,  0.45618695,  1.56650313, ...,  1.95500035,\n",
       "         1.152255  ,  0.20139121],\n",
       "       ...,\n",
       "       [ 0.70228425,  2.0455738 ,  0.67267578, ...,  0.41406869,\n",
       "        -1.10454895, -0.31840916],\n",
       "       [ 1.83834103,  2.33645719,  1.98252415, ...,  2.28998549,\n",
       "         1.91908301,  2.21963528],\n",
       "       [-1.80840125,  1.22179204, -1.81438851, ..., -1.74506282,\n",
       "        -0.04813821, -0.75120669]])"
      ]
     },
     "metadata": {},
     "output_type": "display_data"
    }
   ],
   "source": [
    "display(X_scaled)"
   ]
  },
  {
   "cell_type": "code",
   "execution_count": 7,
   "metadata": {},
   "outputs": [
    {
     "data": {
      "text/plain": [
       "array([[ 9.19283683,  1.94858305, -1.12316523,  3.63372578, -1.19511579],\n",
       "       [ 2.3878018 , -3.76817174, -0.52929287,  1.1182647 ,  0.62177604],\n",
       "       [ 5.73389628, -1.07517379, -0.55174812,  0.91208462, -0.1770836 ],\n",
       "       ...,\n",
       "       [ 1.25617928, -1.90229671,  0.56273034, -2.08922603,  1.80999247],\n",
       "       [10.37479406,  1.67201011, -1.87702957, -2.35602936, -0.03374011],\n",
       "       [-5.4752433 , -0.67063679,  1.49044322, -2.29915734, -0.18470358]])"
      ]
     },
     "metadata": {},
     "output_type": "display_data"
    }
   ],
   "source": [
    "display(X_pca)"
   ]
  },
  {
   "cell_type": "markdown",
   "metadata": {},
   "source": [
    "# Implement PCA and compute results"
   ]
  },
  {
   "cell_type": "code",
   "execution_count": 8,
   "metadata": {},
   "outputs": [
    {
     "name": "stderr",
     "output_type": "stream",
     "text": [
      "D:\\Programs\\Anaconda3\\lib\\site-packages\\sklearn\\ensemble\\forest.py:245: FutureWarning: The default value of n_estimators will change from 10 in version 0.20 to 100 in 0.22.\n",
      "  \"10 in version 0.20 to 100 in 0.22.\", FutureWarning)\n",
      "D:\\Programs\\Anaconda3\\lib\\site-packages\\ipykernel_launcher.py:8: DataConversionWarning: A column-vector y was passed when a 1d array was expected. Please change the shape of y to (n_samples,), for example using ravel().\n",
      "  \n"
     ]
    }
   ],
   "source": [
    "# Split the dataset into train and test\n",
    "X_train, X_test, Y_train, Y_test = \\\n",
    "train_test_split(X_pca, Y, test_size = 0.3, random_state = 1234, stratify=Y)\n",
    "\n",
    "\n",
    "# Default Random Forest Object\n",
    "rfc2 = RandomForestClassifier(random_state=1234)\n",
    "rfc2.fit(X_train, Y_train)\n",
    "Y_predict2 = rfc2.predict(X_test)\n",
    "\n",
    "\n",
    "# Score and Evaluate the model using transformed data\n",
    "cm2 = confusion_matrix(Y_test, Y_predict2)\n",
    "score2 = rfc2.score(X_test, Y_test)"
   ]
  },
  {
   "cell_type": "code",
   "execution_count": 9,
   "metadata": {},
   "outputs": [
    {
     "name": "stdout",
     "output_type": "stream",
     "text": [
      "[[ 61   3]\n",
      " [  0 107]]\n",
      "0.9824561403508771\n"
     ]
    }
   ],
   "source": [
    "print(cm2)\n",
    "print(score2)"
   ]
  },
  {
   "cell_type": "code",
   "execution_count": null,
   "metadata": {},
   "outputs": [],
   "source": []
  }
 ],
 "metadata": {
  "kernelspec": {
   "display_name": "Python 3",
   "language": "python",
   "name": "python3"
  },
  "language_info": {
   "codemirror_mode": {
    "name": "ipython",
    "version": 3
   },
   "file_extension": ".py",
   "mimetype": "text/x-python",
   "name": "python",
   "nbconvert_exporter": "python",
   "pygments_lexer": "ipython3",
   "version": "3.7.5"
  },
  "varInspector": {
   "cols": {
    "lenName": 16,
    "lenType": 16,
    "lenVar": 40
   },
   "kernels_config": {
    "python": {
     "delete_cmd_postfix": "",
     "delete_cmd_prefix": "del ",
     "library": "var_list.py",
     "varRefreshCmd": "print(var_dic_list())"
    },
    "r": {
     "delete_cmd_postfix": ") ",
     "delete_cmd_prefix": "rm(",
     "library": "var_list.r",
     "varRefreshCmd": "cat(var_dic_list()) "
    }
   },
   "types_to_exclude": [
    "module",
    "function",
    "builtin_function_or_method",
    "instance",
    "_Feature"
   ],
   "window_display": false
  }
 },
 "nbformat": 4,
 "nbformat_minor": 2
}
